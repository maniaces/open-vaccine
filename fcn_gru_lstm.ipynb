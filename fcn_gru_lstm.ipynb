{
  "nbformat": 4,
  "nbformat_minor": 0,
  "metadata": {
    "kernelspec": {
      "display_name": "Python 3",
      "language": "python",
      "name": "python3"
    },
    "language_info": {
      "codemirror_mode": {
        "name": "ipython",
        "version": 3
      },
      "file_extension": ".py",
      "mimetype": "text/x-python",
      "name": "python",
      "nbconvert_exporter": "python",
      "pygments_lexer": "ipython3",
      "version": "3.7.6"
    },
    "papermill": {
      "duration": 4086.115327,
      "end_time": "2020-10-06T00:46:00.963453",
      "environment_variables": {},
      "exception": null,
      "input_path": "__notebook__.ipynb",
      "output_path": "__notebook__.ipynb",
      "parameters": {},
      "start_time": "2020-10-05T23:37:54.848126",
      "version": "2.1.0"
    },
    "colab": {
      "name": "fcn gru-lstm.ipynb",
      "provenance": [],
      "include_colab_link": true
    }
  },
  "cells": [
    {
      "cell_type": "markdown",
      "metadata": {
        "id": "view-in-github",
        "colab_type": "text"
      },
      "source": [
        "<a href=\"https://colab.research.google.com/github/maniaces/open-vaccine/blob/main/fcn_gru_lstm.ipynb\" target=\"_parent\"><img src=\"https://colab.research.google.com/assets/colab-badge.svg\" alt=\"Open In Colab\"/></a>"
      ]
    },
    {
      "cell_type": "code",
      "metadata": {
        "_cell_guid": "b1076dfc-b9ad-4769-8c92-a6c4dae69d19",
        "_uuid": "8f2839f25d086af736a60e9eeb907d3b93b6e0e5",
        "execution": {
          "iopub.execute_input": "2020-10-05T23:37:59.218962Z",
          "iopub.status.busy": "2020-10-05T23:37:59.218362Z",
          "iopub.status.idle": "2020-10-05T23:38:06.689609Z",
          "shell.execute_reply": "2020-10-05T23:38:06.688392Z"
        },
        "papermill": {
          "duration": 7.49892,
          "end_time": "2020-10-05T23:38:06.689755",
          "exception": false,
          "start_time": "2020-10-05T23:37:59.190835",
          "status": "completed"
        },
        "tags": [],
        "id": "onSOfCMteu83"
      },
      "source": [
        "import json\n",
        "\n",
        "import pandas as pd\n",
        "import numpy as np\n",
        "import plotly.express as px\n",
        "import tensorflow.keras.layers as L\n",
        "import tensorflow as tf\n",
        "from sklearn.model_selection import train_test_split"
      ],
      "execution_count": null,
      "outputs": []
    },
    {
      "cell_type": "markdown",
      "metadata": {
        "papermill": {
          "duration": 0.021276,
          "end_time": "2020-10-05T23:38:06.733967",
          "exception": false,
          "start_time": "2020-10-05T23:38:06.712691",
          "status": "completed"
        },
        "tags": [],
        "id": "BBfRMI32eu9C"
      },
      "source": [
        "## Set seed to ensure reproducibility"
      ]
    },
    {
      "cell_type": "code",
      "metadata": {
        "execution": {
          "iopub.execute_input": "2020-10-05T23:38:06.783282Z",
          "iopub.status.busy": "2020-10-05T23:38:06.782634Z",
          "iopub.status.idle": "2020-10-05T23:38:06.787000Z",
          "shell.execute_reply": "2020-10-05T23:38:06.786309Z"
        },
        "papermill": {
          "duration": 0.031099,
          "end_time": "2020-10-05T23:38:06.787099",
          "exception": false,
          "start_time": "2020-10-05T23:38:06.756000",
          "status": "completed"
        },
        "tags": [],
        "id": "A3uiNJv9eu9C"
      },
      "source": [
        "tf.random.set_seed(2020)\n",
        "np.random.seed(2020)"
      ],
      "execution_count": null,
      "outputs": []
    },
    {
      "cell_type": "markdown",
      "metadata": {
        "papermill": {
          "duration": 0.021664,
          "end_time": "2020-10-05T23:38:06.838121",
          "exception": false,
          "start_time": "2020-10-05T23:38:06.816457",
          "status": "completed"
        },
        "tags": [],
        "id": "sMOk2WP5eu9F"
      },
      "source": [
        "## Helper functions and useful variables"
      ]
    },
    {
      "cell_type": "code",
      "metadata": {
        "execution": {
          "iopub.execute_input": "2020-10-05T23:38:06.885783Z",
          "iopub.status.busy": "2020-10-05T23:38:06.885130Z",
          "iopub.status.idle": "2020-10-05T23:38:06.889240Z",
          "shell.execute_reply": "2020-10-05T23:38:06.889779Z"
        },
        "papermill": {
          "duration": 0.030082,
          "end_time": "2020-10-05T23:38:06.889905",
          "exception": false,
          "start_time": "2020-10-05T23:38:06.859823",
          "status": "completed"
        },
        "tags": [],
        "id": "5eZ1-BfKeu9G"
      },
      "source": [
        "# This will tell us the columns we are predicting\n",
        "pred_cols = ['reactivity', 'deg_Mg_pH10', 'deg_Mg_50C', 'deg_pH10', 'deg_50C']"
      ],
      "execution_count": null,
      "outputs": []
    },
    {
      "cell_type": "code",
      "metadata": {
        "execution": {
          "iopub.execute_input": "2020-10-05T23:38:09.491808Z",
          "iopub.status.busy": "2020-10-05T23:38:09.491026Z",
          "iopub.status.idle": "2020-10-05T23:38:09.800316Z",
          "shell.execute_reply": "2020-10-05T23:38:09.799124Z"
        },
        "papermill": {
          "duration": 2.888604,
          "end_time": "2020-10-05T23:38:09.800447",
          "exception": false,
          "start_time": "2020-10-05T23:38:06.911843",
          "status": "completed"
        },
        "tags": [],
        "id": "TUrxchjdeu9J"
      },
      "source": [
        "y_true = tf.random.normal((32, 68, 3))\n",
        "y_pred = tf.random.normal((32, 68, 3))"
      ],
      "execution_count": null,
      "outputs": []
    },
    {
      "cell_type": "code",
      "metadata": {
        "execution": {
          "iopub.execute_input": "2020-10-05T23:38:09.850154Z",
          "iopub.status.busy": "2020-10-05T23:38:09.849172Z",
          "iopub.status.idle": "2020-10-05T23:38:09.851648Z",
          "shell.execute_reply": "2020-10-05T23:38:09.852087Z"
        },
        "papermill": {
          "duration": 0.029729,
          "end_time": "2020-10-05T23:38:09.852233",
          "exception": false,
          "start_time": "2020-10-05T23:38:09.822504",
          "status": "completed"
        },
        "tags": [],
        "id": "17y5zdaseu9P"
      },
      "source": [
        "def MCRMSE(y_true, y_pred):\n",
        "    colwise_mse = tf.reduce_mean(tf.square(y_true - y_pred), axis=1)\n",
        "    return tf.reduce_mean(tf.sqrt(colwise_mse), axis=1)"
      ],
      "execution_count": null,
      "outputs": []
    },
    {
      "cell_type": "code",
      "metadata": {
        "execution": {
          "iopub.execute_input": "2020-10-05T23:38:09.901461Z",
          "iopub.status.busy": "2020-10-05T23:38:09.900814Z",
          "iopub.status.idle": "2020-10-05T23:38:09.905066Z",
          "shell.execute_reply": "2020-10-05T23:38:09.904390Z"
        },
        "papermill": {
          "duration": 0.031315,
          "end_time": "2020-10-05T23:38:09.905161",
          "exception": false,
          "start_time": "2020-10-05T23:38:09.873846",
          "status": "completed"
        },
        "tags": [],
        "id": "GSplo5IIeu9U"
      },
      "source": [
        "def gru_layer(hidden_dim, dropout):\n",
        "    return L.Bidirectional(L.GRU(\n",
        "        hidden_dim, dropout=dropout, return_sequences=True, kernel_initializer='orthogonal'))\n",
        "\n",
        "def lstm_layer(hidden_dim, dropout):\n",
        "    return L.Bidirectional(L.LSTM(\n",
        "        hidden_dim, dropout=dropout, return_sequences=True, kernel_initializer='orthogonal'))\n"
      ],
      "execution_count": null,
      "outputs": []
    },
    {
      "cell_type": "code",
      "metadata": {
        "execution": {
          "iopub.execute_input": "2020-10-05T23:38:09.997935Z",
          "iopub.status.busy": "2020-10-05T23:38:09.997349Z",
          "iopub.status.idle": "2020-10-05T23:38:10.001253Z",
          "shell.execute_reply": "2020-10-05T23:38:10.000720Z"
        },
        "papermill": {
          "duration": 0.030667,
          "end_time": "2020-10-05T23:38:10.001348",
          "exception": false,
          "start_time": "2020-10-05T23:38:09.970681",
          "status": "completed"
        },
        "tags": [],
        "id": "RB3kNzMbeu9Z"
      },
      "source": [
        "def pandas_list_to_array(df):\n",
        "    \"\"\"\n",
        "    Input: dataframe of shape (x, y), containing list of length l\n",
        "    Return: np.array of shape (x, l, y)\n",
        "    \"\"\"\n",
        "    \n",
        "    return np.transpose(\n",
        "        np.array(df.values.tolist()),\n",
        "        (0, 2, 1)\n",
        "    )"
      ],
      "execution_count": null,
      "outputs": []
    },
    {
      "cell_type": "code",
      "metadata": {
        "execution": {
          "iopub.execute_input": "2020-10-05T23:38:10.050967Z",
          "iopub.status.busy": "2020-10-05T23:38:10.049148Z",
          "iopub.status.idle": "2020-10-05T23:38:10.051776Z",
          "shell.execute_reply": "2020-10-05T23:38:10.052255Z"
        },
        "papermill": {
          "duration": 0.029453,
          "end_time": "2020-10-05T23:38:10.052362",
          "exception": false,
          "start_time": "2020-10-05T23:38:10.022909",
          "status": "completed"
        },
        "tags": [],
        "id": "V1KmcH7veu9f"
      },
      "source": [
        "def preprocess_inputs(df, token2int, cols=['sequence', 'structure', 'predicted_loop_type']):\n",
        "    return pandas_list_to_array(\n",
        "        df[cols].applymap(lambda seq: [token2int[x] for x in seq])\n",
        "    )"
      ],
      "execution_count": null,
      "outputs": []
    },
    {
      "cell_type": "markdown",
      "metadata": {
        "papermill": {
          "duration": 0.02151,
          "end_time": "2020-10-05T23:38:10.096038",
          "exception": false,
          "start_time": "2020-10-05T23:38:10.074528",
          "status": "completed"
        },
        "tags": [],
        "id": "crAbop1ieu9l"
      },
      "source": [
        "## Load and preprocess data"
      ]
    },
    {
      "cell_type": "code",
      "metadata": {
        "execution": {
          "iopub.execute_input": "2020-10-05T23:38:10.144643Z",
          "iopub.status.busy": "2020-10-05T23:38:10.143887Z",
          "iopub.status.idle": "2020-10-05T23:38:11.249508Z",
          "shell.execute_reply": "2020-10-05T23:38:11.248339Z"
        },
        "papermill": {
          "duration": 1.131876,
          "end_time": "2020-10-05T23:38:11.249638",
          "exception": false,
          "start_time": "2020-10-05T23:38:10.117762",
          "status": "completed"
        },
        "tags": [],
        "id": "zqFwJ-o_eu9l"
      },
      "source": [
        "data_dir = '/kaggle/input/stanford-covid-vaccine/'\n",
        "train = pd.read_json(data_dir + 'train.json', lines=True)\n",
        "test = pd.read_json(data_dir + 'test.json', lines=True)\n",
        "sample_df = pd.read_csv(data_dir + 'sample_submission.csv')"
      ],
      "execution_count": null,
      "outputs": []
    },
    {
      "cell_type": "code",
      "metadata": {
        "execution": {
          "iopub.execute_input": "2020-10-05T23:38:11.303026Z",
          "iopub.status.busy": "2020-10-05T23:38:11.302138Z",
          "iopub.status.idle": "2020-10-05T23:38:11.326867Z",
          "shell.execute_reply": "2020-10-05T23:38:11.327381Z"
        },
        "papermill": {
          "duration": 0.055611,
          "end_time": "2020-10-05T23:38:11.327515",
          "exception": false,
          "start_time": "2020-10-05T23:38:11.271904",
          "status": "completed"
        },
        "tags": [],
        "id": "I75mPYfreu9p"
      },
      "source": [
        "train = train.query(\"signal_to_noise >= 1\")"
      ],
      "execution_count": null,
      "outputs": []
    },
    {
      "cell_type": "code",
      "metadata": {
        "execution": {
          "iopub.execute_input": "2020-10-05T23:38:11.380737Z",
          "iopub.status.busy": "2020-10-05T23:38:11.380065Z",
          "iopub.status.idle": "2020-10-05T23:38:11.656820Z",
          "shell.execute_reply": "2020-10-05T23:38:11.656310Z"
        },
        "papermill": {
          "duration": 0.307466,
          "end_time": "2020-10-05T23:38:11.656933",
          "exception": false,
          "start_time": "2020-10-05T23:38:11.349467",
          "status": "completed"
        },
        "tags": [],
        "id": "y7vijzCreu9s"
      },
      "source": [
        "# We will use this dictionary to map each character to an integer\n",
        "# so that it can be used as an input in keras\n",
        "token2int = {x:i for i, x in enumerate('().ACGUBEHIMSX')}\n",
        "\n",
        "train_inputs = preprocess_inputs(train, token2int)\n",
        "train_labels = pandas_list_to_array(train[pred_cols])"
      ],
      "execution_count": null,
      "outputs": []
    },
    {
      "cell_type": "code",
      "metadata": {
        "execution": {
          "iopub.execute_input": "2020-10-05T23:38:11.706831Z",
          "iopub.status.busy": "2020-10-05T23:38:11.706252Z",
          "iopub.status.idle": "2020-10-05T23:38:11.717312Z",
          "shell.execute_reply": "2020-10-05T23:38:11.716707Z"
        },
        "papermill": {
          "duration": 0.03787,
          "end_time": "2020-10-05T23:38:11.717409",
          "exception": false,
          "start_time": "2020-10-05T23:38:11.679539",
          "status": "completed"
        },
        "tags": [],
        "id": "63gF992Meu9y"
      },
      "source": [
        "x_train, x_val, y_train, y_val = train_test_split(\n",
        "    train_inputs, train_labels, test_size=.1, random_state=34, stratify=train.SN_filter)"
      ],
      "execution_count": null,
      "outputs": []
    },
    {
      "cell_type": "markdown",
      "metadata": {
        "papermill": {
          "duration": 0.02511,
          "end_time": "2020-10-05T23:38:11.764872",
          "exception": false,
          "start_time": "2020-10-05T23:38:11.739762",
          "status": "completed"
        },
        "tags": [],
        "id": "mqnx_4yWeu93"
      },
      "source": [
        "Public and private sets have different sequence lengths, so we will preprocess them separately and load models of different tensor shapes."
      ]
    },
    {
      "cell_type": "code",
      "metadata": {
        "execution": {
          "iopub.execute_input": "2020-10-05T23:38:11.831590Z",
          "iopub.status.busy": "2020-10-05T23:38:11.818705Z",
          "iopub.status.idle": "2020-10-05T23:38:12.199048Z",
          "shell.execute_reply": "2020-10-05T23:38:12.198498Z"
        },
        "papermill": {
          "duration": 0.412677,
          "end_time": "2020-10-05T23:38:12.199157",
          "exception": false,
          "start_time": "2020-10-05T23:38:11.786480",
          "status": "completed"
        },
        "tags": [],
        "id": "J6GZaEcWeu94"
      },
      "source": [
        "public_df = test.query(\"seq_length == 107\")\n",
        "private_df = test.query(\"seq_length == 130\")\n",
        "\n",
        "public_inputs = preprocess_inputs(public_df, token2int)\n",
        "private_inputs = preprocess_inputs(private_df, token2int)"
      ],
      "execution_count": null,
      "outputs": []
    },
    {
      "cell_type": "markdown",
      "metadata": {
        "papermill": {
          "duration": 0.021857,
          "end_time": "2020-10-05T23:38:12.243955",
          "exception": false,
          "start_time": "2020-10-05T23:38:12.222098",
          "status": "completed"
        },
        "tags": [],
        "id": "1caQiSo4eu97"
      },
      "source": [
        "## Build and train model\n",
        "\n"
      ]
    },
    {
      "cell_type": "code",
      "metadata": {
        "execution": {
          "iopub.execute_input": "2020-10-05T23:38:12.308620Z",
          "iopub.status.busy": "2020-10-05T23:38:12.305944Z",
          "iopub.status.idle": "2020-10-05T23:38:12.367108Z",
          "shell.execute_reply": "2020-10-05T23:38:12.366619Z"
        },
        "papermill": {
          "duration": 0.101411,
          "end_time": "2020-10-05T23:38:12.367241",
          "exception": false,
          "start_time": "2020-10-05T23:38:12.265830",
          "status": "completed"
        },
        "tags": [],
        "id": "eLYfNzLVeu97"
      },
      "source": [
        "from keras.layers import Conv1D, BatchNormalization,GlobalMaxPooling1D, Permute, Dropout\n",
        "from keras.layers import Input, Dense, LSTM, concatenate, Activation\n",
        "from keras.models import Model\n",
        "\n",
        "def build_model(embed_size, seq_len=107, pred_len=68, dropout=0.5, \n",
        "                sp_dropout=0.2, embed_dim=200, hidden_dim=256, n_layers=16):\n",
        "    inputs = L.Input(shape=(seq_len, 3))\n",
        "    embed = L.Embedding(input_dim=embed_size, output_dim=embed_dim)(inputs)\n",
        "    \n",
        "    reshaped = tf.reshape(\n",
        "        embed, shape=(-1, embed.shape[1],  embed.shape[2] * embed.shape[3])\n",
        "    )\n",
        "    hiddenn = L.SpatialDropout1D(sp_dropout)(reshaped)\n",
        "    m_layers= 5\n",
        "    for y in range(m_layers):\n",
        "        h = lstm_layer(hidden_dim, dropout)(hiddenn)\n",
        "        h = Conv1D(512, 5, padding='same', activation=tf.keras.activations.swish)(h)\n",
        "        h = BatchNormalization()(h)\n",
        "        hiddenn = Activation('relu')(h)\n",
        "        \n",
        "    y = lstm_layer(hidden_dim*2, dropout)(h) \n",
        "    x = concatenate([h, y])\n",
        "    \n",
        "    y = gru_layer(hidden_dim, dropout)(x)\n",
        "    z = Conv1D(512, 5, padding='same', activation=tf.keras.activations.swish)(y)\n",
        "    h = BatchNormalization()(h)\n",
        "    hiddenn = Activation('relu')(h)\n",
        "    z = Conv1D(512, 5, padding='same', activation=tf.keras.activations.swish)(h)    \n",
        "    z = Conv1D(512, 5, padding='same', activation=tf.keras.activations.swish)(z)\n",
        "    z = gru_layer(hidden_dim, dropout)(z)\n",
        "    z = lstm_layer(hidden_dim*2, dropout)(z)\n",
        "    xx = concatenate([x, z])\n",
        "    y = gru_layer(hidden_dim, dropout)(xx)\n",
        "    z = Conv1D(512, 5, padding='same', activation=tf.keras.activations.swish)(y)\n",
        "    z = gru_layer(hidden_dim*4, dropout)(z)\n",
        "    z = lstm_layer(hidden_dim*2, dropout)(z)\n",
        "    \n",
        "    \n",
        "    # Since we are only making predictions on the first part of each sequence, \n",
        "    # we have to truncate it\n",
        "    truncated = z[:, :pred_len]\n",
        "    out = L.Dense(5, activation='linear')(truncated)\n",
        "    \n",
        "    model = tf.keras.Model(inputs=inputs, outputs=out)\n",
        "    model.compile(tf.optimizers.Adam(), loss=MCRMSE)\n",
        "    \n",
        "    return model"
      ],
      "execution_count": null,
      "outputs": []
    },
    {
      "cell_type": "code",
      "metadata": {
        "execution": {
          "iopub.execute_input": "2020-10-05T23:38:12.415996Z",
          "iopub.status.busy": "2020-10-05T23:38:12.415387Z",
          "iopub.status.idle": "2020-10-05T23:38:24.097313Z",
          "shell.execute_reply": "2020-10-05T23:38:24.096273Z"
        },
        "papermill": {
          "duration": 11.708187,
          "end_time": "2020-10-05T23:38:24.097477",
          "exception": false,
          "start_time": "2020-10-05T23:38:12.389290",
          "status": "completed"
        },
        "tags": [],
        "id": "KYBT0rj_eu-B",
        "outputId": "cc759962-6c5c-424e-a1d8-cf31e5fcd2b1"
      },
      "source": [
        "model = build_model(embed_size=len(token2int))\n",
        "model.summary()"
      ],
      "execution_count": null,
      "outputs": [
        {
          "output_type": "stream",
          "text": [
            "Model: \"functional_1\"\n",
            "__________________________________________________________________________________________________\n",
            "Layer (type)                    Output Shape         Param #     Connected to                     \n",
            "==================================================================================================\n",
            "input_1 (InputLayer)            [(None, 107, 3)]     0                                            \n",
            "__________________________________________________________________________________________________\n",
            "embedding (Embedding)           (None, 107, 3, 200)  2800        input_1[0][0]                    \n",
            "__________________________________________________________________________________________________\n",
            "tf_op_layer_Reshape (TensorFlow [(None, 107, 600)]   0           embedding[0][0]                  \n",
            "__________________________________________________________________________________________________\n",
            "spatial_dropout1d (SpatialDropo (None, 107, 600)     0           tf_op_layer_Reshape[0][0]        \n",
            "__________________________________________________________________________________________________\n",
            "bidirectional (Bidirectional)   (None, 107, 512)     1755136     spatial_dropout1d[0][0]          \n",
            "__________________________________________________________________________________________________\n",
            "conv1d (Conv1D)                 (None, 107, 512)     1311232     bidirectional[0][0]              \n",
            "__________________________________________________________________________________________________\n",
            "batch_normalization (BatchNorma (None, 107, 512)     2048        conv1d[0][0]                     \n",
            "__________________________________________________________________________________________________\n",
            "activation (Activation)         (None, 107, 512)     0           batch_normalization[0][0]        \n",
            "__________________________________________________________________________________________________\n",
            "bidirectional_1 (Bidirectional) (None, 107, 512)     1574912     activation[0][0]                 \n",
            "__________________________________________________________________________________________________\n",
            "conv1d_1 (Conv1D)               (None, 107, 512)     1311232     bidirectional_1[0][0]            \n",
            "__________________________________________________________________________________________________\n",
            "batch_normalization_1 (BatchNor (None, 107, 512)     2048        conv1d_1[0][0]                   \n",
            "__________________________________________________________________________________________________\n",
            "activation_1 (Activation)       (None, 107, 512)     0           batch_normalization_1[0][0]      \n",
            "__________________________________________________________________________________________________\n",
            "bidirectional_2 (Bidirectional) (None, 107, 512)     1574912     activation_1[0][0]               \n",
            "__________________________________________________________________________________________________\n",
            "conv1d_2 (Conv1D)               (None, 107, 512)     1311232     bidirectional_2[0][0]            \n",
            "__________________________________________________________________________________________________\n",
            "batch_normalization_2 (BatchNor (None, 107, 512)     2048        conv1d_2[0][0]                   \n",
            "__________________________________________________________________________________________________\n",
            "activation_2 (Activation)       (None, 107, 512)     0           batch_normalization_2[0][0]      \n",
            "__________________________________________________________________________________________________\n",
            "bidirectional_3 (Bidirectional) (None, 107, 512)     1574912     activation_2[0][0]               \n",
            "__________________________________________________________________________________________________\n",
            "conv1d_3 (Conv1D)               (None, 107, 512)     1311232     bidirectional_3[0][0]            \n",
            "__________________________________________________________________________________________________\n",
            "batch_normalization_3 (BatchNor (None, 107, 512)     2048        conv1d_3[0][0]                   \n",
            "__________________________________________________________________________________________________\n",
            "activation_3 (Activation)       (None, 107, 512)     0           batch_normalization_3[0][0]      \n",
            "__________________________________________________________________________________________________\n",
            "bidirectional_4 (Bidirectional) (None, 107, 512)     1574912     activation_3[0][0]               \n",
            "__________________________________________________________________________________________________\n",
            "conv1d_4 (Conv1D)               (None, 107, 512)     1311232     bidirectional_4[0][0]            \n",
            "__________________________________________________________________________________________________\n",
            "batch_normalization_4 (BatchNor (None, 107, 512)     2048        conv1d_4[0][0]                   \n",
            "__________________________________________________________________________________________________\n",
            "batch_normalization_5 (BatchNor (None, 107, 512)     2048        batch_normalization_4[0][0]      \n",
            "__________________________________________________________________________________________________\n",
            "conv1d_6 (Conv1D)               (None, 107, 512)     1311232     batch_normalization_5[0][0]      \n",
            "__________________________________________________________________________________________________\n",
            "conv1d_7 (Conv1D)               (None, 107, 512)     1311232     conv1d_6[0][0]                   \n",
            "__________________________________________________________________________________________________\n",
            "bidirectional_5 (Bidirectional) (None, 107, 1024)    4198400     batch_normalization_4[0][0]      \n",
            "__________________________________________________________________________________________________\n",
            "bidirectional_7 (Bidirectional) (None, 107, 512)     1182720     conv1d_7[0][0]                   \n",
            "__________________________________________________________________________________________________\n",
            "concatenate (Concatenate)       (None, 107, 1536)    0           batch_normalization_4[0][0]      \n",
            "                                                                 bidirectional_5[0][0]            \n",
            "__________________________________________________________________________________________________\n",
            "bidirectional_8 (Bidirectional) (None, 107, 1024)    4198400     bidirectional_7[0][0]            \n",
            "__________________________________________________________________________________________________\n",
            "concatenate_1 (Concatenate)     (None, 107, 2560)    0           concatenate[0][0]                \n",
            "                                                                 bidirectional_8[0][0]            \n",
            "__________________________________________________________________________________________________\n",
            "bidirectional_9 (Bidirectional) (None, 107, 512)     4328448     concatenate_1[0][0]              \n",
            "__________________________________________________________________________________________________\n",
            "conv1d_8 (Conv1D)               (None, 107, 512)     1311232     bidirectional_9[0][0]            \n",
            "__________________________________________________________________________________________________\n",
            "bidirectional_10 (Bidirectional (None, 107, 2048)    9449472     conv1d_8[0][0]                   \n",
            "__________________________________________________________________________________________________\n",
            "bidirectional_11 (Bidirectional (None, 107, 1024)    10489856    bidirectional_10[0][0]           \n",
            "__________________________________________________________________________________________________\n",
            "tf_op_layer_strided_slice (Tens [(None, 68, 1024)]   0           bidirectional_11[0][0]           \n",
            "__________________________________________________________________________________________________\n",
            "dense (Dense)                   (None, 68, 5)        5125        tf_op_layer_strided_slice[0][0]  \n",
            "==================================================================================================\n",
            "Total params: 52,412,149\n",
            "Trainable params: 52,406,005\n",
            "Non-trainable params: 6,144\n",
            "__________________________________________________________________________________________________\n"
          ],
          "name": "stdout"
        }
      ]
    },
    {
      "cell_type": "code",
      "metadata": {
        "_kg_hide-output": true,
        "execution": {
          "iopub.execute_input": "2020-10-05T23:38:24.151880Z",
          "iopub.status.busy": "2020-10-05T23:38:24.151030Z",
          "iopub.status.idle": "2020-10-06T00:44:44.304868Z",
          "shell.execute_reply": "2020-10-06T00:44:44.303866Z"
        },
        "papermill": {
          "duration": 3980.183124,
          "end_time": "2020-10-06T00:44:44.305047",
          "exception": false,
          "start_time": "2020-10-05T23:38:24.121923",
          "status": "completed"
        },
        "tags": [],
        "id": "JoHzTl0Teu-H",
        "outputId": "e445a510-5341-4ffc-e811-70b7c312274b"
      },
      "source": [
        "history = model.fit(\n",
        "    x_train, y_train,\n",
        "    validation_data=(x_val, y_val),\n",
        "    batch_size=64,\n",
        "    epochs=200,\n",
        "    verbose=2,\n",
        "    callbacks=[\n",
        "        tf.keras.callbacks.ReduceLROnPlateau(patience=5),\n",
        "        tf.keras.callbacks.ModelCheckpoint('model.h5')\n",
        "    ]\n",
        ")"
      ],
      "execution_count": null,
      "outputs": [
        {
          "output_type": "stream",
          "text": [
            "Epoch 1/200\n",
            "30/30 - 25s - loss: 0.7946 - val_loss: 0.4746\n",
            "Epoch 2/200\n",
            "30/30 - 20s - loss: 0.4486 - val_loss: 0.4538\n",
            "Epoch 3/200\n",
            "30/30 - 19s - loss: 0.4226 - val_loss: 0.4493\n",
            "Epoch 4/200\n",
            "30/30 - 19s - loss: 0.4074 - val_loss: 0.4198\n",
            "Epoch 5/200\n",
            "30/30 - 19s - loss: 0.3830 - val_loss: 0.4287\n",
            "Epoch 6/200\n",
            "30/30 - 19s - loss: 0.3682 - val_loss: 0.4140\n",
            "Epoch 7/200\n",
            "30/30 - 19s - loss: 0.3592 - val_loss: 0.4060\n",
            "Epoch 8/200\n",
            "30/30 - 19s - loss: 0.3521 - val_loss: 0.3950\n",
            "Epoch 9/200\n",
            "30/30 - 19s - loss: 0.3481 - val_loss: 0.3964\n",
            "Epoch 10/200\n",
            "30/30 - 19s - loss: 0.3402 - val_loss: 0.3864\n",
            "Epoch 11/200\n",
            "30/30 - 19s - loss: 0.3402 - val_loss: 0.3739\n",
            "Epoch 12/200\n",
            "30/30 - 19s - loss: 0.3352 - val_loss: 0.3855\n",
            "Epoch 13/200\n",
            "30/30 - 19s - loss: 0.3311 - val_loss: 0.3654\n",
            "Epoch 14/200\n",
            "30/30 - 19s - loss: 0.3257 - val_loss: 0.3591\n",
            "Epoch 15/200\n",
            "30/30 - 19s - loss: 0.3201 - val_loss: 0.3456\n",
            "Epoch 16/200\n",
            "30/30 - 19s - loss: 0.3146 - val_loss: 0.3273\n",
            "Epoch 17/200\n",
            "30/30 - 19s - loss: 0.3099 - val_loss: 0.3137\n",
            "Epoch 18/200\n",
            "30/30 - 19s - loss: 0.3013 - val_loss: 0.3093\n",
            "Epoch 19/200\n",
            "30/30 - 19s - loss: 0.2938 - val_loss: 0.3028\n",
            "Epoch 20/200\n",
            "30/30 - 19s - loss: 0.2914 - val_loss: 0.2868\n",
            "Epoch 21/200\n",
            "30/30 - 19s - loss: 0.2825 - val_loss: 0.2826\n",
            "Epoch 22/200\n",
            "30/30 - 19s - loss: 0.2756 - val_loss: 0.2751\n",
            "Epoch 23/200\n",
            "30/30 - 19s - loss: 0.2700 - val_loss: 0.2779\n",
            "Epoch 24/200\n",
            "30/30 - 19s - loss: 0.2678 - val_loss: 0.2717\n",
            "Epoch 25/200\n",
            "30/30 - 19s - loss: 0.2649 - val_loss: 0.2677\n",
            "Epoch 26/200\n",
            "30/30 - 19s - loss: 0.2629 - val_loss: 0.2820\n",
            "Epoch 27/200\n",
            "30/30 - 19s - loss: 0.2590 - val_loss: 0.2892\n",
            "Epoch 28/200\n",
            "30/30 - 19s - loss: 0.2562 - val_loss: 0.2663\n",
            "Epoch 29/200\n",
            "30/30 - 19s - loss: 0.2545 - val_loss: 0.2642\n",
            "Epoch 30/200\n",
            "30/30 - 19s - loss: 0.2502 - val_loss: 0.2617\n",
            "Epoch 31/200\n",
            "30/30 - 19s - loss: 0.2508 - val_loss: 0.2630\n",
            "Epoch 32/200\n",
            "30/30 - 19s - loss: 0.2462 - val_loss: 0.2544\n",
            "Epoch 33/200\n",
            "30/30 - 19s - loss: 0.2442 - val_loss: 0.2597\n",
            "Epoch 34/200\n",
            "30/30 - 19s - loss: 0.2433 - val_loss: 0.2536\n",
            "Epoch 35/200\n",
            "30/30 - 19s - loss: 0.2405 - val_loss: 0.2584\n",
            "Epoch 36/200\n",
            "30/30 - 19s - loss: 0.2391 - val_loss: 0.2580\n",
            "Epoch 37/200\n",
            "30/30 - 19s - loss: 0.2371 - val_loss: 0.2606\n",
            "Epoch 38/200\n",
            "30/30 - 19s - loss: 0.2336 - val_loss: 0.2524\n",
            "Epoch 39/200\n",
            "30/30 - 19s - loss: 0.2327 - val_loss: 0.2455\n",
            "Epoch 40/200\n",
            "30/30 - 19s - loss: 0.2308 - val_loss: 0.2595\n",
            "Epoch 41/200\n",
            "30/30 - 19s - loss: 0.2301 - val_loss: 0.2454\n",
            "Epoch 42/200\n",
            "30/30 - 19s - loss: 0.2283 - val_loss: 0.2510\n",
            "Epoch 43/200\n",
            "30/30 - 19s - loss: 0.2251 - val_loss: 0.2409\n",
            "Epoch 44/200\n",
            "30/30 - 19s - loss: 0.2241 - val_loss: 0.2472\n",
            "Epoch 45/200\n",
            "30/30 - 19s - loss: 0.2225 - val_loss: 0.2507\n",
            "Epoch 46/200\n",
            "30/30 - 19s - loss: 0.2209 - val_loss: 0.2513\n",
            "Epoch 47/200\n",
            "30/30 - 19s - loss: 0.2188 - val_loss: 0.2532\n",
            "Epoch 48/200\n",
            "30/30 - 19s - loss: 0.2183 - val_loss: 0.2453\n",
            "Epoch 49/200\n",
            "30/30 - 19s - loss: 0.2109 - val_loss: 0.2370\n",
            "Epoch 50/200\n",
            "30/30 - 19s - loss: 0.2076 - val_loss: 0.2350\n",
            "Epoch 51/200\n",
            "30/30 - 19s - loss: 0.2066 - val_loss: 0.2343\n",
            "Epoch 52/200\n",
            "30/30 - 19s - loss: 0.2057 - val_loss: 0.2338\n",
            "Epoch 53/200\n",
            "30/30 - 19s - loss: 0.2050 - val_loss: 0.2356\n",
            "Epoch 54/200\n",
            "30/30 - 19s - loss: 0.2042 - val_loss: 0.2334\n",
            "Epoch 55/200\n",
            "30/30 - 19s - loss: 0.2038 - val_loss: 0.2330\n",
            "Epoch 56/200\n",
            "30/30 - 19s - loss: 0.2033 - val_loss: 0.2325\n",
            "Epoch 57/200\n",
            "30/30 - 19s - loss: 0.2030 - val_loss: 0.2340\n",
            "Epoch 58/200\n",
            "30/30 - 19s - loss: 0.2019 - val_loss: 0.2318\n",
            "Epoch 59/200\n",
            "30/30 - 19s - loss: 0.2016 - val_loss: 0.2326\n",
            "Epoch 60/200\n",
            "30/30 - 19s - loss: 0.2014 - val_loss: 0.2333\n",
            "Epoch 61/200\n",
            "30/30 - 19s - loss: 0.2009 - val_loss: 0.2313\n",
            "Epoch 62/200\n",
            "30/30 - 19s - loss: 0.2013 - val_loss: 0.2329\n",
            "Epoch 63/200\n",
            "30/30 - 19s - loss: 0.2004 - val_loss: 0.2315\n",
            "Epoch 64/200\n",
            "30/30 - 19s - loss: 0.1999 - val_loss: 0.2314\n",
            "Epoch 65/200\n",
            "30/30 - 19s - loss: 0.1995 - val_loss: 0.2327\n",
            "Epoch 66/200\n",
            "30/30 - 19s - loss: 0.1995 - val_loss: 0.2319\n",
            "Epoch 67/200\n",
            "30/30 - 19s - loss: 0.1986 - val_loss: 0.2319\n",
            "Epoch 68/200\n",
            "30/30 - 19s - loss: 0.1982 - val_loss: 0.2319\n",
            "Epoch 69/200\n",
            "30/30 - 19s - loss: 0.1979 - val_loss: 0.2320\n",
            "Epoch 70/200\n",
            "30/30 - 19s - loss: 0.1979 - val_loss: 0.2321\n",
            "Epoch 71/200\n",
            "30/30 - 19s - loss: 0.1977 - val_loss: 0.2320\n",
            "Epoch 72/200\n",
            "30/30 - 19s - loss: 0.1982 - val_loss: 0.2320\n",
            "Epoch 73/200\n",
            "30/30 - 19s - loss: 0.1976 - val_loss: 0.2320\n",
            "Epoch 74/200\n",
            "30/30 - 19s - loss: 0.1977 - val_loss: 0.2321\n",
            "Epoch 75/200\n",
            "30/30 - 19s - loss: 0.1977 - val_loss: 0.2321\n",
            "Epoch 76/200\n",
            "30/30 - 19s - loss: 0.1977 - val_loss: 0.2321\n",
            "Epoch 77/200\n",
            "30/30 - 19s - loss: 0.1977 - val_loss: 0.2321\n",
            "Epoch 78/200\n",
            "30/30 - 20s - loss: 0.1977 - val_loss: 0.2321\n",
            "Epoch 79/200\n",
            "30/30 - 19s - loss: 0.1976 - val_loss: 0.2321\n",
            "Epoch 80/200\n",
            "30/30 - 19s - loss: 0.1980 - val_loss: 0.2321\n",
            "Epoch 81/200\n",
            "30/30 - 19s - loss: 0.1974 - val_loss: 0.2321\n",
            "Epoch 82/200\n",
            "30/30 - 19s - loss: 0.1979 - val_loss: 0.2321\n",
            "Epoch 83/200\n",
            "30/30 - 19s - loss: 0.1977 - val_loss: 0.2321\n",
            "Epoch 84/200\n",
            "30/30 - 19s - loss: 0.1979 - val_loss: 0.2322\n",
            "Epoch 85/200\n",
            "30/30 - 19s - loss: 0.1976 - val_loss: 0.2322\n",
            "Epoch 86/200\n",
            "30/30 - 19s - loss: 0.1978 - val_loss: 0.2322\n",
            "Epoch 87/200\n",
            "30/30 - 19s - loss: 0.1980 - val_loss: 0.2322\n",
            "Epoch 88/200\n",
            "30/30 - 19s - loss: 0.1976 - val_loss: 0.2322\n",
            "Epoch 89/200\n",
            "30/30 - 19s - loss: 0.1975 - val_loss: 0.2322\n",
            "Epoch 90/200\n",
            "30/30 - 19s - loss: 0.1978 - val_loss: 0.2322\n",
            "Epoch 91/200\n",
            "30/30 - 19s - loss: 0.1975 - val_loss: 0.2322\n",
            "Epoch 92/200\n",
            "30/30 - 19s - loss: 0.1974 - val_loss: 0.2322\n",
            "Epoch 93/200\n",
            "30/30 - 19s - loss: 0.1977 - val_loss: 0.2322\n",
            "Epoch 94/200\n",
            "30/30 - 19s - loss: 0.1977 - val_loss: 0.2322\n",
            "Epoch 95/200\n",
            "30/30 - 19s - loss: 0.1981 - val_loss: 0.2322\n",
            "Epoch 96/200\n",
            "30/30 - 19s - loss: 0.1979 - val_loss: 0.2322\n",
            "Epoch 97/200\n",
            "30/30 - 19s - loss: 0.1976 - val_loss: 0.2322\n",
            "Epoch 98/200\n",
            "30/30 - 19s - loss: 0.1983 - val_loss: 0.2322\n",
            "Epoch 99/200\n",
            "30/30 - 19s - loss: 0.1978 - val_loss: 0.2322\n",
            "Epoch 100/200\n",
            "30/30 - 19s - loss: 0.1979 - val_loss: 0.2321\n",
            "Epoch 101/200\n",
            "30/30 - 19s - loss: 0.1976 - val_loss: 0.2322\n",
            "Epoch 102/200\n",
            "30/30 - 19s - loss: 0.1980 - val_loss: 0.2322\n",
            "Epoch 103/200\n",
            "30/30 - 19s - loss: 0.1974 - val_loss: 0.2322\n",
            "Epoch 104/200\n",
            "30/30 - 19s - loss: 0.1976 - val_loss: 0.2322\n",
            "Epoch 105/200\n",
            "30/30 - 19s - loss: 0.1979 - val_loss: 0.2322\n",
            "Epoch 106/200\n",
            "30/30 - 19s - loss: 0.1978 - val_loss: 0.2322\n",
            "Epoch 107/200\n",
            "30/30 - 19s - loss: 0.1978 - val_loss: 0.2322\n",
            "Epoch 108/200\n",
            "30/30 - 19s - loss: 0.1976 - val_loss: 0.2322\n",
            "Epoch 109/200\n",
            "30/30 - 19s - loss: 0.1974 - val_loss: 0.2322\n",
            "Epoch 110/200\n",
            "30/30 - 19s - loss: 0.1977 - val_loss: 0.2322\n",
            "Epoch 111/200\n",
            "30/30 - 19s - loss: 0.1975 - val_loss: 0.2322\n",
            "Epoch 112/200\n",
            "30/30 - 19s - loss: 0.1979 - val_loss: 0.2322\n",
            "Epoch 113/200\n",
            "30/30 - 19s - loss: 0.1980 - val_loss: 0.2322\n",
            "Epoch 114/200\n",
            "30/30 - 19s - loss: 0.1976 - val_loss: 0.2322\n",
            "Epoch 115/200\n",
            "30/30 - 19s - loss: 0.1976 - val_loss: 0.2322\n",
            "Epoch 116/200\n",
            "30/30 - 19s - loss: 0.1976 - val_loss: 0.2322\n",
            "Epoch 117/200\n",
            "30/30 - 19s - loss: 0.1977 - val_loss: 0.2322\n",
            "Epoch 118/200\n",
            "30/30 - 19s - loss: 0.1978 - val_loss: 0.2322\n",
            "Epoch 119/200\n",
            "30/30 - 19s - loss: 0.1976 - val_loss: 0.2322\n",
            "Epoch 120/200\n",
            "30/30 - 19s - loss: 0.1976 - val_loss: 0.2322\n",
            "Epoch 121/200\n",
            "30/30 - 19s - loss: 0.1978 - val_loss: 0.2322\n",
            "Epoch 122/200\n",
            "30/30 - 19s - loss: 0.1981 - val_loss: 0.2322\n",
            "Epoch 123/200\n",
            "30/30 - 19s - loss: 0.1976 - val_loss: 0.2322\n",
            "Epoch 124/200\n",
            "30/30 - 19s - loss: 0.1978 - val_loss: 0.2322\n",
            "Epoch 125/200\n",
            "30/30 - 19s - loss: 0.1976 - val_loss: 0.2322\n",
            "Epoch 126/200\n",
            "30/30 - 19s - loss: 0.1976 - val_loss: 0.2321\n",
            "Epoch 127/200\n",
            "30/30 - 19s - loss: 0.1975 - val_loss: 0.2322\n",
            "Epoch 128/200\n",
            "30/30 - 19s - loss: 0.1978 - val_loss: 0.2322\n",
            "Epoch 129/200\n",
            "30/30 - 19s - loss: 0.1977 - val_loss: 0.2322\n",
            "Epoch 130/200\n",
            "30/30 - 19s - loss: 0.1978 - val_loss: 0.2322\n",
            "Epoch 131/200\n",
            "30/30 - 19s - loss: 0.1973 - val_loss: 0.2322\n",
            "Epoch 132/200\n",
            "30/30 - 19s - loss: 0.1977 - val_loss: 0.2322\n",
            "Epoch 133/200\n",
            "30/30 - 19s - loss: 0.1976 - val_loss: 0.2322\n",
            "Epoch 134/200\n",
            "30/30 - 19s - loss: 0.1976 - val_loss: 0.2322\n",
            "Epoch 135/200\n",
            "30/30 - 19s - loss: 0.1979 - val_loss: 0.2322\n",
            "Epoch 136/200\n",
            "30/30 - 19s - loss: 0.1976 - val_loss: 0.2322\n",
            "Epoch 137/200\n",
            "30/30 - 19s - loss: 0.1978 - val_loss: 0.2322\n",
            "Epoch 138/200\n",
            "30/30 - 19s - loss: 0.1975 - val_loss: 0.2322\n",
            "Epoch 139/200\n",
            "30/30 - 19s - loss: 0.1978 - val_loss: 0.2322\n",
            "Epoch 140/200\n",
            "30/30 - 19s - loss: 0.1975 - val_loss: 0.2322\n",
            "Epoch 141/200\n",
            "30/30 - 19s - loss: 0.1978 - val_loss: 0.2322\n",
            "Epoch 142/200\n",
            "30/30 - 19s - loss: 0.1979 - val_loss: 0.2322\n",
            "Epoch 143/200\n",
            "30/30 - 19s - loss: 0.1975 - val_loss: 0.2322\n",
            "Epoch 144/200\n",
            "30/30 - 19s - loss: 0.1980 - val_loss: 0.2322\n",
            "Epoch 145/200\n",
            "30/30 - 19s - loss: 0.1985 - val_loss: 0.2322\n",
            "Epoch 146/200\n",
            "30/30 - 19s - loss: 0.1976 - val_loss: 0.2322\n",
            "Epoch 147/200\n",
            "30/30 - 19s - loss: 0.1981 - val_loss: 0.2322\n",
            "Epoch 148/200\n",
            "30/30 - 19s - loss: 0.1979 - val_loss: 0.2322\n",
            "Epoch 149/200\n",
            "30/30 - 19s - loss: 0.1977 - val_loss: 0.2322\n",
            "Epoch 150/200\n",
            "30/30 - 19s - loss: 0.1979 - val_loss: 0.2322\n",
            "Epoch 151/200\n",
            "30/30 - 19s - loss: 0.1975 - val_loss: 0.2322\n",
            "Epoch 152/200\n",
            "30/30 - 19s - loss: 0.1978 - val_loss: 0.2322\n",
            "Epoch 153/200\n",
            "30/30 - 19s - loss: 0.1981 - val_loss: 0.2322\n",
            "Epoch 154/200\n",
            "30/30 - 19s - loss: 0.1975 - val_loss: 0.2322\n",
            "Epoch 155/200\n",
            "30/30 - 19s - loss: 0.1979 - val_loss: 0.2322\n",
            "Epoch 156/200\n",
            "30/30 - 19s - loss: 0.1976 - val_loss: 0.2322\n",
            "Epoch 157/200\n",
            "30/30 - 19s - loss: 0.1976 - val_loss: 0.2322\n",
            "Epoch 158/200\n",
            "30/30 - 19s - loss: 0.1978 - val_loss: 0.2322\n",
            "Epoch 159/200\n",
            "30/30 - 19s - loss: 0.1984 - val_loss: 0.2322\n",
            "Epoch 160/200\n",
            "30/30 - 19s - loss: 0.1979 - val_loss: 0.2322\n",
            "Epoch 161/200\n",
            "30/30 - 19s - loss: 0.1977 - val_loss: 0.2322\n",
            "Epoch 162/200\n",
            "30/30 - 19s - loss: 0.1980 - val_loss: 0.2322\n",
            "Epoch 163/200\n",
            "30/30 - 19s - loss: 0.1974 - val_loss: 0.2322\n",
            "Epoch 164/200\n",
            "30/30 - 19s - loss: 0.1977 - val_loss: 0.2322\n",
            "Epoch 165/200\n",
            "30/30 - 19s - loss: 0.1980 - val_loss: 0.2322\n",
            "Epoch 166/200\n",
            "30/30 - 19s - loss: 0.1977 - val_loss: 0.2322\n",
            "Epoch 167/200\n",
            "30/30 - 19s - loss: 0.1978 - val_loss: 0.2322\n",
            "Epoch 168/200\n",
            "30/30 - 19s - loss: 0.1979 - val_loss: 0.2322\n",
            "Epoch 169/200\n",
            "30/30 - 19s - loss: 0.1978 - val_loss: 0.2322\n",
            "Epoch 170/200\n",
            "30/30 - 19s - loss: 0.1975 - val_loss: 0.2322\n",
            "Epoch 171/200\n",
            "30/30 - 19s - loss: 0.1979 - val_loss: 0.2322\n",
            "Epoch 172/200\n",
            "30/30 - 19s - loss: 0.1979 - val_loss: 0.2322\n",
            "Epoch 173/200\n",
            "30/30 - 19s - loss: 0.1974 - val_loss: 0.2322\n",
            "Epoch 174/200\n",
            "30/30 - 19s - loss: 0.1980 - val_loss: 0.2322\n",
            "Epoch 175/200\n",
            "30/30 - 19s - loss: 0.1980 - val_loss: 0.2322\n",
            "Epoch 176/200\n",
            "30/30 - 19s - loss: 0.1981 - val_loss: 0.2322\n",
            "Epoch 177/200\n",
            "30/30 - 19s - loss: 0.1977 - val_loss: 0.2322\n",
            "Epoch 178/200\n",
            "30/30 - 19s - loss: 0.1975 - val_loss: 0.2322\n",
            "Epoch 179/200\n",
            "30/30 - 19s - loss: 0.1972 - val_loss: 0.2322\n",
            "Epoch 180/200\n",
            "30/30 - 19s - loss: 0.1976 - val_loss: 0.2322\n",
            "Epoch 181/200\n",
            "30/30 - 19s - loss: 0.1973 - val_loss: 0.2322\n",
            "Epoch 182/200\n",
            "30/30 - 19s - loss: 0.1978 - val_loss: 0.2322\n",
            "Epoch 183/200\n",
            "30/30 - 19s - loss: 0.1975 - val_loss: 0.2322\n",
            "Epoch 184/200\n",
            "30/30 - 19s - loss: 0.1981 - val_loss: 0.2322\n",
            "Epoch 185/200\n",
            "30/30 - 19s - loss: 0.1976 - val_loss: 0.2322\n",
            "Epoch 186/200\n",
            "30/30 - 19s - loss: 0.1977 - val_loss: 0.2322\n",
            "Epoch 187/200\n",
            "30/30 - 19s - loss: 0.1982 - val_loss: 0.2322\n",
            "Epoch 188/200\n",
            "30/30 - 19s - loss: 0.1977 - val_loss: 0.2322\n",
            "Epoch 189/200\n",
            "30/30 - 19s - loss: 0.1977 - val_loss: 0.2322\n",
            "Epoch 190/200\n",
            "30/30 - 19s - loss: 0.1980 - val_loss: 0.2322\n",
            "Epoch 191/200\n",
            "30/30 - 19s - loss: 0.1978 - val_loss: 0.2322\n",
            "Epoch 192/200\n",
            "30/30 - 19s - loss: 0.1975 - val_loss: 0.2322\n",
            "Epoch 193/200\n",
            "30/30 - 19s - loss: 0.1978 - val_loss: 0.2322\n",
            "Epoch 194/200\n",
            "30/30 - 19s - loss: 0.1981 - val_loss: 0.2322\n",
            "Epoch 195/200\n",
            "30/30 - 19s - loss: 0.1980 - val_loss: 0.2322\n",
            "Epoch 196/200\n",
            "30/30 - 19s - loss: 0.1977 - val_loss: 0.2322\n",
            "Epoch 197/200\n",
            "30/30 - 19s - loss: 0.1979 - val_loss: 0.2322\n",
            "Epoch 198/200\n",
            "30/30 - 19s - loss: 0.1979 - val_loss: 0.2322\n",
            "Epoch 199/200\n",
            "30/30 - 19s - loss: 0.1977 - val_loss: 0.2322\n",
            "Epoch 200/200\n",
            "30/30 - 19s - loss: 0.1978 - val_loss: 0.2322\n"
          ],
          "name": "stdout"
        }
      ]
    },
    {
      "cell_type": "markdown",
      "metadata": {
        "papermill": {
          "duration": 0.249185,
          "end_time": "2020-10-06T00:44:44.812712",
          "exception": false,
          "start_time": "2020-10-06T00:44:44.563527",
          "status": "completed"
        },
        "tags": [],
        "id": "tDfF5i13eu-K"
      },
      "source": [
        "## Evaluate training history\n",
        "\n",
        "Let's use Plotly to quickly visualize the training and validation loss throughout the epochs."
      ]
    },
    {
      "cell_type": "code",
      "metadata": {
        "execution": {
          "iopub.execute_input": "2020-10-06T00:44:45.204858Z",
          "iopub.status.busy": "2020-10-06T00:44:45.204204Z",
          "iopub.status.idle": "2020-10-06T00:44:47.085030Z",
          "shell.execute_reply": "2020-10-06T00:44:47.084509Z"
        },
        "papermill": {
          "duration": 2.061629,
          "end_time": "2020-10-06T00:44:47.085143",
          "exception": false,
          "start_time": "2020-10-06T00:44:45.023514",
          "status": "completed"
        },
        "tags": [],
        "id": "lBu3L8f7eu-L",
        "outputId": "81d767fa-66c9-4ffc-f743-18d54b881edc"
      },
      "source": [
        "fig = px.line(\n",
        "    history.history, y=['loss', 'val_loss'],\n",
        "    labels={'index': 'epoch', 'value': 'MCRMSE'}, \n",
        "    title='Training History')\n",
        "fig.show()"
      ],
      "execution_count": null,
      "outputs": [
        {
          "output_type": "display_data",
          "data": {
            "text/html": [
              "        <script type=\"text/javascript\">\n",
              "        window.PlotlyConfig = {MathJaxConfig: 'local'};\n",
              "        if (window.MathJax) {MathJax.Hub.Config({SVG: {font: \"STIX-Web\"}});}\n",
              "        if (typeof require !== 'undefined') {\n",
              "        require.undef(\"plotly\");\n",
              "        requirejs.config({\n",
              "            paths: {\n",
              "                'plotly': ['https://cdn.plot.ly/plotly-latest.min']\n",
              "            }\n",
              "        });\n",
              "        require(['plotly'], function(Plotly) {\n",
              "            window._Plotly = Plotly;\n",
              "        });\n",
              "        }\n",
              "        </script>\n",
              "        "
            ]
          },
          "metadata": {
            "tags": []
          }
        },
        {
          "output_type": "display_data",
          "data": {
            "text/html": [
              "<div>\n",
              "        \n",
              "        \n",
              "            <div id=\"606c7330-4736-493c-8fef-18d09ed876fc\" class=\"plotly-graph-div\" style=\"height:525px; width:100%;\"></div>\n",
              "            <script type=\"text/javascript\">\n",
              "                require([\"plotly\"], function(Plotly) {\n",
              "                    window.PLOTLYENV=window.PLOTLYENV || {};\n",
              "                    \n",
              "                if (document.getElementById(\"606c7330-4736-493c-8fef-18d09ed876fc\")) {\n",
              "                    Plotly.newPlot(\n",
              "                        '606c7330-4736-493c-8fef-18d09ed876fc',\n",
              "                        [{\"hovertemplate\": \"variable=loss<br>epoch=%{x}<br>MCRMSE=%{y}<extra></extra>\", \"legendgroup\": \"loss\", \"line\": {\"color\": \"#636efa\", \"dash\": \"solid\"}, \"mode\": \"lines\", \"name\": \"loss\", \"orientation\": \"v\", \"showlegend\": true, \"type\": \"scatter\", \"x\": [0, 1, 2, 3, 4, 5, 6, 7, 8, 9, 10, 11, 12, 13, 14, 15, 16, 17, 18, 19, 20, 21, 22, 23, 24, 25, 26, 27, 28, 29, 30, 31, 32, 33, 34, 35, 36, 37, 38, 39, 40, 41, 42, 43, 44, 45, 46, 47, 48, 49, 50, 51, 52, 53, 54, 55, 56, 57, 58, 59, 60, 61, 62, 63, 64, 65, 66, 67, 68, 69, 70, 71, 72, 73, 74, 75, 76, 77, 78, 79, 80, 81, 82, 83, 84, 85, 86, 87, 88, 89, 90, 91, 92, 93, 94, 95, 96, 97, 98, 99, 100, 101, 102, 103, 104, 105, 106, 107, 108, 109, 110, 111, 112, 113, 114, 115, 116, 117, 118, 119, 120, 121, 122, 123, 124, 125, 126, 127, 128, 129, 130, 131, 132, 133, 134, 135, 136, 137, 138, 139, 140, 141, 142, 143, 144, 145, 146, 147, 148, 149, 150, 151, 152, 153, 154, 155, 156, 157, 158, 159, 160, 161, 162, 163, 164, 165, 166, 167, 168, 169, 170, 171, 172, 173, 174, 175, 176, 177, 178, 179, 180, 181, 182, 183, 184, 185, 186, 187, 188, 189, 190, 191, 192, 193, 194, 195, 196, 197, 198, 199], \"xaxis\": \"x\", \"y\": [0.7946228981018066, 0.44859597086906433, 0.4225654602050781, 0.40735340118408203, 0.38302305340766907, 0.36815544962882996, 0.35921475291252136, 0.35213443636894226, 0.3481438457965851, 0.3401731550693512, 0.34016653895378113, 0.33519771695137024, 0.33108264207839966, 0.32567134499549866, 0.3201354742050171, 0.3145866394042969, 0.30988577008247375, 0.3012595772743225, 0.29379695653915405, 0.29143226146698, 0.2824535667896271, 0.2756485342979431, 0.2700059711933136, 0.26782670617103577, 0.26486626267433167, 0.2628694176673889, 0.2589706480503082, 0.2561713457107544, 0.2544574439525604, 0.2502445578575134, 0.2507939338684082, 0.24616460502147675, 0.24422629177570343, 0.24329309165477753, 0.24047794938087463, 0.2390659600496292, 0.23713554441928864, 0.23363731801509857, 0.23266243934631348, 0.2307785451412201, 0.23009918630123138, 0.22830258309841156, 0.22511515021324158, 0.2240956574678421, 0.22254367172718048, 0.22092266380786896, 0.21877236664295197, 0.21830792725086212, 0.21086454391479492, 0.2075638324022293, 0.2065528780221939, 0.20570766925811768, 0.20497404038906097, 0.20416921377182007, 0.20383431017398834, 0.20333316922187805, 0.2029571682214737, 0.20186318457126617, 0.20164522528648376, 0.20144732296466827, 0.200937420129776, 0.20133845508098602, 0.20039352774620056, 0.1999046951532364, 0.19949834048748016, 0.19948774576187134, 0.19859500229358673, 0.19818270206451416, 0.1979396641254425, 0.19787104427814484, 0.1977245956659317, 0.1981608122587204, 0.19764219224452972, 0.19766199588775635, 0.19768205285072327, 0.1977299153804779, 0.19769421219825745, 0.19774746894836426, 0.19761404395103455, 0.19799140095710754, 0.19741828739643097, 0.19785533845424652, 0.1977158635854721, 0.1978609412908554, 0.1976163238286972, 0.1977512091398239, 0.1979919821023941, 0.19758254289627075, 0.1975131630897522, 0.1978212594985962, 0.19753409922122955, 0.1973634660243988, 0.1976989358663559, 0.19766925275325775, 0.19814133644104004, 0.19790422916412354, 0.1976086050271988, 0.19831861555576324, 0.19780506193637848, 0.19794702529907227, 0.19756191968917847, 0.19801799952983856, 0.1973845362663269, 0.1976264864206314, 0.1979302167892456, 0.19783660769462585, 0.19775357842445374, 0.1976192593574524, 0.1974010467529297, 0.19771553575992584, 0.19753581285476685, 0.19789600372314453, 0.1979805827140808, 0.19764316082000732, 0.1976063847541809, 0.19758622348308563, 0.19772695004940033, 0.1977805644273758, 0.19758300483226776, 0.19758819043636322, 0.19784145057201385, 0.19806259870529175, 0.19758783280849457, 0.19779029488563538, 0.19762468338012695, 0.19760113954544067, 0.1974620670080185, 0.1977502405643463, 0.19772876799106598, 0.1978282630443573, 0.19733324646949768, 0.19765400886535645, 0.19757355749607086, 0.19757822155952454, 0.19789378345012665, 0.19756926596164703, 0.19784151017665863, 0.19753491878509521, 0.1977589726448059, 0.19752836227416992, 0.19782665371894836, 0.19793131947517395, 0.19749075174331665, 0.1980055421590805, 0.1985137015581131, 0.19756311178207397, 0.19812187552452087, 0.19789566099643707, 0.1977195292711258, 0.19787663221359253, 0.19750769436359406, 0.19778211414813995, 0.19811387360095978, 0.19748127460479736, 0.19789454340934753, 0.1976354569196701, 0.1976069211959839, 0.19780129194259644, 0.19836829602718353, 0.1979048103094101, 0.19770266115665436, 0.19799989461898804, 0.19737164676189423, 0.197684183716774, 0.19802001118659973, 0.19774341583251953, 0.19776062667369843, 0.1979108452796936, 0.19782251119613647, 0.19750432670116425, 0.1979052722454071, 0.19792595505714417, 0.19744081795215607, 0.19797687232494354, 0.19804304838180542, 0.19811633229255676, 0.19767621159553528, 0.19747136533260345, 0.19715631008148193, 0.19758452475070953, 0.1972585916519165, 0.1977807730436325, 0.19752907752990723, 0.19811703264713287, 0.19760319590568542, 0.19773393869400024, 0.1981745958328247, 0.19767940044403076, 0.19769375026226044, 0.197997584939003, 0.1977737843990326, 0.1974746137857437, 0.19779056310653687, 0.1980687379837036, 0.19798095524311066, 0.19769839942455292, 0.1978849619626999, 0.19788670539855957, 0.1977139264345169, 0.19778524339199066], \"yaxis\": \"y\"}, {\"hovertemplate\": \"variable=val_loss<br>epoch=%{x}<br>MCRMSE=%{y}<extra></extra>\", \"legendgroup\": \"val_loss\", \"line\": {\"color\": \"#EF553B\", \"dash\": \"solid\"}, \"mode\": \"lines\", \"name\": \"val_loss\", \"orientation\": \"v\", \"showlegend\": true, \"type\": \"scatter\", \"x\": [0, 1, 2, 3, 4, 5, 6, 7, 8, 9, 10, 11, 12, 13, 14, 15, 16, 17, 18, 19, 20, 21, 22, 23, 24, 25, 26, 27, 28, 29, 30, 31, 32, 33, 34, 35, 36, 37, 38, 39, 40, 41, 42, 43, 44, 45, 46, 47, 48, 49, 50, 51, 52, 53, 54, 55, 56, 57, 58, 59, 60, 61, 62, 63, 64, 65, 66, 67, 68, 69, 70, 71, 72, 73, 74, 75, 76, 77, 78, 79, 80, 81, 82, 83, 84, 85, 86, 87, 88, 89, 90, 91, 92, 93, 94, 95, 96, 97, 98, 99, 100, 101, 102, 103, 104, 105, 106, 107, 108, 109, 110, 111, 112, 113, 114, 115, 116, 117, 118, 119, 120, 121, 122, 123, 124, 125, 126, 127, 128, 129, 130, 131, 132, 133, 134, 135, 136, 137, 138, 139, 140, 141, 142, 143, 144, 145, 146, 147, 148, 149, 150, 151, 152, 153, 154, 155, 156, 157, 158, 159, 160, 161, 162, 163, 164, 165, 166, 167, 168, 169, 170, 171, 172, 173, 174, 175, 176, 177, 178, 179, 180, 181, 182, 183, 184, 185, 186, 187, 188, 189, 190, 191, 192, 193, 194, 195, 196, 197, 198, 199], \"xaxis\": \"x\", \"y\": [0.47463259100914, 0.4538431167602539, 0.44929492473602295, 0.4198263883590698, 0.4287194311618805, 0.41402822732925415, 0.4060100018978119, 0.39498236775398254, 0.3963792622089386, 0.38641104102134705, 0.37389519810676575, 0.38549405336380005, 0.36539024114608765, 0.3590767979621887, 0.3455597758293152, 0.32728976011276245, 0.3137264549732208, 0.30933311581611633, 0.3028079867362976, 0.2868429720401764, 0.2825668752193451, 0.2750650942325592, 0.2778779864311218, 0.2716979384422302, 0.2676672041416168, 0.28198081254959106, 0.28915247321128845, 0.2663399875164032, 0.26415929198265076, 0.26168885827064514, 0.2630215883255005, 0.25438791513442993, 0.2597186267375946, 0.2536403238773346, 0.2583809792995453, 0.2580067813396454, 0.26061147451400757, 0.2523704767227173, 0.24553857743740082, 0.25953295826911926, 0.2454288899898529, 0.2509712874889374, 0.24093236029148102, 0.24719054996967316, 0.2506973445415497, 0.25130128860473633, 0.25315871834754944, 0.24530458450317383, 0.2369917929172516, 0.23504753410816193, 0.23428256809711456, 0.2338406890630722, 0.2355540692806244, 0.23340842127799988, 0.23295088112354279, 0.23245634138584137, 0.23395214974880219, 0.23180238902568817, 0.23255206644535065, 0.23332232236862183, 0.231296569108963, 0.23285211622714996, 0.23146846890449524, 0.23140232264995575, 0.2326507419347763, 0.23193708062171936, 0.23192450404167175, 0.23194247484207153, 0.23199397325515747, 0.2320776730775833, 0.23196843266487122, 0.2319912612438202, 0.23200781643390656, 0.2321348786354065, 0.23210634291172028, 0.23210883140563965, 0.2321232557296753, 0.2321353405714035, 0.23214977979660034, 0.2321140617132187, 0.23212048411369324, 0.23212972283363342, 0.23214174807071686, 0.23216159641742706, 0.23218047618865967, 0.2321929931640625, 0.23217864334583282, 0.23216578364372253, 0.23217330873012543, 0.232167586684227, 0.23215942084789276, 0.23216472566127777, 0.23218566179275513, 0.23218375444412231, 0.23219619691371918, 0.232199028134346, 0.23218268156051636, 0.2321743220090866, 0.23216041922569275, 0.23214557766914368, 0.23215751349925995, 0.23215313255786896, 0.23218926787376404, 0.23215840756893158, 0.23218736052513123, 0.23219124972820282, 0.2321814000606537, 0.23216870427131653, 0.23218555748462677, 0.23219256103038788, 0.2321961522102356, 0.23216526210308075, 0.23217274248600006, 0.23217853903770447, 0.23217284679412842, 0.23217207193374634, 0.23217405378818512, 0.23218528926372528, 0.23217062652111053, 0.23215557634830475, 0.23215915262699127, 0.23217540979385376, 0.23218336701393127, 0.23215872049331665, 0.23215700685977936, 0.23214633762836456, 0.23215818405151367, 0.23216712474822998, 0.23219119012355804, 0.23220744729042053, 0.232210174202919, 0.2322116643190384, 0.23219788074493408, 0.2321867048740387, 0.23220568895339966, 0.23218102753162384, 0.2321733683347702, 0.23216001689434052, 0.23218268156051636, 0.23216986656188965, 0.23218442499637604, 0.23218128085136414, 0.23218032717704773, 0.23216743767261505, 0.23217834532260895, 0.23218496143817902, 0.23221348226070404, 0.23219193518161774, 0.2321782261133194, 0.23217490315437317, 0.23217178881168365, 0.23219455778598785, 0.2321784794330597, 0.23219074308872223, 0.23219332098960876, 0.23218734562397003, 0.23217546939849854, 0.23219655454158783, 0.232206329703331, 0.2321726679801941, 0.23215772211551666, 0.23218421638011932, 0.23217658698558807, 0.2321719378232956, 0.23217065632343292, 0.23217076063156128, 0.23218315839767456, 0.23216164112091064, 0.2321750819683075, 0.23218566179275513, 0.23216727375984192, 0.23216164112091064, 0.2321629524230957, 0.2321944683790207, 0.23221854865550995, 0.2322084754705429, 0.23219482600688934, 0.23218850791454315, 0.23217137157917023, 0.23217789828777313, 0.23217399418354034, 0.23219366371631622, 0.232186421751976, 0.23219522833824158, 0.23219434916973114, 0.23220810294151306, 0.2322009801864624, 0.23217958211898804, 0.2321818768978119, 0.23218782246112823, 0.23218031227588654, 0.232172429561615, 0.2321690320968628, 0.23218420147895813, 0.23219528794288635, 0.2321876585483551, 0.23218053579330444, 0.23219257593154907, 0.2321808636188507, 0.2321792095899582], \"yaxis\": \"y\"}],\n",
              "                        {\"legend\": {\"title\": {\"text\": \"variable\"}, \"tracegroupgap\": 0}, \"template\": {\"data\": {\"bar\": [{\"error_x\": {\"color\": \"#2a3f5f\"}, \"error_y\": {\"color\": \"#2a3f5f\"}, \"marker\": {\"line\": {\"color\": \"#E5ECF6\", \"width\": 0.5}}, \"type\": \"bar\"}], \"barpolar\": [{\"marker\": {\"line\": {\"color\": \"#E5ECF6\", \"width\": 0.5}}, \"type\": \"barpolar\"}], \"carpet\": [{\"aaxis\": {\"endlinecolor\": \"#2a3f5f\", \"gridcolor\": \"white\", \"linecolor\": \"white\", \"minorgridcolor\": \"white\", \"startlinecolor\": \"#2a3f5f\"}, \"baxis\": {\"endlinecolor\": \"#2a3f5f\", \"gridcolor\": \"white\", \"linecolor\": \"white\", \"minorgridcolor\": \"white\", \"startlinecolor\": \"#2a3f5f\"}, \"type\": \"carpet\"}], \"choropleth\": [{\"colorbar\": {\"outlinewidth\": 0, \"ticks\": \"\"}, \"type\": \"choropleth\"}], \"contour\": [{\"colorbar\": {\"outlinewidth\": 0, \"ticks\": \"\"}, \"colorscale\": [[0.0, \"#0d0887\"], [0.1111111111111111, \"#46039f\"], [0.2222222222222222, \"#7201a8\"], [0.3333333333333333, \"#9c179e\"], [0.4444444444444444, \"#bd3786\"], [0.5555555555555556, \"#d8576b\"], [0.6666666666666666, \"#ed7953\"], [0.7777777777777778, \"#fb9f3a\"], [0.8888888888888888, \"#fdca26\"], [1.0, \"#f0f921\"]], \"type\": \"contour\"}], \"contourcarpet\": [{\"colorbar\": {\"outlinewidth\": 0, \"ticks\": \"\"}, \"type\": \"contourcarpet\"}], \"heatmap\": [{\"colorbar\": {\"outlinewidth\": 0, \"ticks\": \"\"}, \"colorscale\": [[0.0, \"#0d0887\"], [0.1111111111111111, \"#46039f\"], [0.2222222222222222, \"#7201a8\"], [0.3333333333333333, \"#9c179e\"], [0.4444444444444444, \"#bd3786\"], [0.5555555555555556, \"#d8576b\"], [0.6666666666666666, \"#ed7953\"], [0.7777777777777778, \"#fb9f3a\"], [0.8888888888888888, \"#fdca26\"], [1.0, \"#f0f921\"]], \"type\": \"heatmap\"}], \"heatmapgl\": [{\"colorbar\": {\"outlinewidth\": 0, \"ticks\": \"\"}, \"colorscale\": [[0.0, \"#0d0887\"], [0.1111111111111111, \"#46039f\"], [0.2222222222222222, \"#7201a8\"], [0.3333333333333333, \"#9c179e\"], [0.4444444444444444, \"#bd3786\"], [0.5555555555555556, \"#d8576b\"], [0.6666666666666666, \"#ed7953\"], [0.7777777777777778, \"#fb9f3a\"], [0.8888888888888888, \"#fdca26\"], [1.0, \"#f0f921\"]], \"type\": \"heatmapgl\"}], \"histogram\": [{\"marker\": {\"colorbar\": {\"outlinewidth\": 0, \"ticks\": \"\"}}, \"type\": \"histogram\"}], \"histogram2d\": [{\"colorbar\": {\"outlinewidth\": 0, \"ticks\": \"\"}, \"colorscale\": [[0.0, \"#0d0887\"], [0.1111111111111111, \"#46039f\"], [0.2222222222222222, \"#7201a8\"], [0.3333333333333333, \"#9c179e\"], [0.4444444444444444, \"#bd3786\"], [0.5555555555555556, \"#d8576b\"], [0.6666666666666666, \"#ed7953\"], [0.7777777777777778, \"#fb9f3a\"], [0.8888888888888888, \"#fdca26\"], [1.0, \"#f0f921\"]], \"type\": \"histogram2d\"}], \"histogram2dcontour\": [{\"colorbar\": {\"outlinewidth\": 0, \"ticks\": \"\"}, \"colorscale\": [[0.0, \"#0d0887\"], [0.1111111111111111, \"#46039f\"], [0.2222222222222222, \"#7201a8\"], [0.3333333333333333, \"#9c179e\"], [0.4444444444444444, \"#bd3786\"], [0.5555555555555556, \"#d8576b\"], [0.6666666666666666, \"#ed7953\"], [0.7777777777777778, \"#fb9f3a\"], [0.8888888888888888, \"#fdca26\"], [1.0, \"#f0f921\"]], \"type\": \"histogram2dcontour\"}], \"mesh3d\": [{\"colorbar\": {\"outlinewidth\": 0, \"ticks\": \"\"}, \"type\": \"mesh3d\"}], \"parcoords\": [{\"line\": {\"colorbar\": {\"outlinewidth\": 0, \"ticks\": \"\"}}, \"type\": \"parcoords\"}], \"pie\": [{\"automargin\": true, \"type\": \"pie\"}], \"scatter\": [{\"marker\": {\"colorbar\": {\"outlinewidth\": 0, \"ticks\": \"\"}}, \"type\": \"scatter\"}], \"scatter3d\": [{\"line\": {\"colorbar\": {\"outlinewidth\": 0, \"ticks\": \"\"}}, \"marker\": {\"colorbar\": {\"outlinewidth\": 0, \"ticks\": \"\"}}, \"type\": \"scatter3d\"}], \"scattercarpet\": [{\"marker\": {\"colorbar\": {\"outlinewidth\": 0, \"ticks\": \"\"}}, \"type\": \"scattercarpet\"}], \"scattergeo\": [{\"marker\": {\"colorbar\": {\"outlinewidth\": 0, \"ticks\": \"\"}}, \"type\": \"scattergeo\"}], \"scattergl\": [{\"marker\": {\"colorbar\": {\"outlinewidth\": 0, \"ticks\": \"\"}}, \"type\": \"scattergl\"}], \"scattermapbox\": [{\"marker\": {\"colorbar\": {\"outlinewidth\": 0, \"ticks\": \"\"}}, \"type\": \"scattermapbox\"}], \"scatterpolar\": [{\"marker\": {\"colorbar\": {\"outlinewidth\": 0, \"ticks\": \"\"}}, \"type\": \"scatterpolar\"}], \"scatterpolargl\": [{\"marker\": {\"colorbar\": {\"outlinewidth\": 0, \"ticks\": \"\"}}, \"type\": \"scatterpolargl\"}], \"scatterternary\": [{\"marker\": {\"colorbar\": {\"outlinewidth\": 0, \"ticks\": \"\"}}, \"type\": \"scatterternary\"}], \"surface\": [{\"colorbar\": {\"outlinewidth\": 0, \"ticks\": \"\"}, \"colorscale\": [[0.0, \"#0d0887\"], [0.1111111111111111, \"#46039f\"], [0.2222222222222222, \"#7201a8\"], [0.3333333333333333, \"#9c179e\"], [0.4444444444444444, \"#bd3786\"], [0.5555555555555556, \"#d8576b\"], [0.6666666666666666, \"#ed7953\"], [0.7777777777777778, \"#fb9f3a\"], [0.8888888888888888, \"#fdca26\"], [1.0, \"#f0f921\"]], \"type\": \"surface\"}], \"table\": [{\"cells\": {\"fill\": {\"color\": \"#EBF0F8\"}, \"line\": {\"color\": \"white\"}}, \"header\": {\"fill\": {\"color\": \"#C8D4E3\"}, \"line\": {\"color\": \"white\"}}, \"type\": \"table\"}]}, \"layout\": {\"annotationdefaults\": {\"arrowcolor\": \"#2a3f5f\", \"arrowhead\": 0, \"arrowwidth\": 1}, \"coloraxis\": {\"colorbar\": {\"outlinewidth\": 0, \"ticks\": \"\"}}, \"colorscale\": {\"diverging\": [[0, \"#8e0152\"], [0.1, \"#c51b7d\"], [0.2, \"#de77ae\"], [0.3, \"#f1b6da\"], [0.4, \"#fde0ef\"], [0.5, \"#f7f7f7\"], [0.6, \"#e6f5d0\"], [0.7, \"#b8e186\"], [0.8, \"#7fbc41\"], [0.9, \"#4d9221\"], [1, \"#276419\"]], \"sequential\": [[0.0, \"#0d0887\"], [0.1111111111111111, \"#46039f\"], [0.2222222222222222, \"#7201a8\"], [0.3333333333333333, \"#9c179e\"], [0.4444444444444444, \"#bd3786\"], [0.5555555555555556, \"#d8576b\"], [0.6666666666666666, \"#ed7953\"], [0.7777777777777778, \"#fb9f3a\"], [0.8888888888888888, \"#fdca26\"], [1.0, \"#f0f921\"]], \"sequentialminus\": [[0.0, \"#0d0887\"], [0.1111111111111111, \"#46039f\"], [0.2222222222222222, \"#7201a8\"], [0.3333333333333333, \"#9c179e\"], [0.4444444444444444, \"#bd3786\"], [0.5555555555555556, \"#d8576b\"], [0.6666666666666666, \"#ed7953\"], [0.7777777777777778, \"#fb9f3a\"], [0.8888888888888888, \"#fdca26\"], [1.0, \"#f0f921\"]]}, \"colorway\": [\"#636efa\", \"#EF553B\", \"#00cc96\", \"#ab63fa\", \"#FFA15A\", \"#19d3f3\", \"#FF6692\", \"#B6E880\", \"#FF97FF\", \"#FECB52\"], \"font\": {\"color\": \"#2a3f5f\"}, \"geo\": {\"bgcolor\": \"white\", \"lakecolor\": \"white\", \"landcolor\": \"#E5ECF6\", \"showlakes\": true, \"showland\": true, \"subunitcolor\": \"white\"}, \"hoverlabel\": {\"align\": \"left\"}, \"hovermode\": \"closest\", \"mapbox\": {\"style\": \"light\"}, \"paper_bgcolor\": \"white\", \"plot_bgcolor\": \"#E5ECF6\", \"polar\": {\"angularaxis\": {\"gridcolor\": \"white\", \"linecolor\": \"white\", \"ticks\": \"\"}, \"bgcolor\": \"#E5ECF6\", \"radialaxis\": {\"gridcolor\": \"white\", \"linecolor\": \"white\", \"ticks\": \"\"}}, \"scene\": {\"xaxis\": {\"backgroundcolor\": \"#E5ECF6\", \"gridcolor\": \"white\", \"gridwidth\": 2, \"linecolor\": \"white\", \"showbackground\": true, \"ticks\": \"\", \"zerolinecolor\": \"white\"}, \"yaxis\": {\"backgroundcolor\": \"#E5ECF6\", \"gridcolor\": \"white\", \"gridwidth\": 2, \"linecolor\": \"white\", \"showbackground\": true, \"ticks\": \"\", \"zerolinecolor\": \"white\"}, \"zaxis\": {\"backgroundcolor\": \"#E5ECF6\", \"gridcolor\": \"white\", \"gridwidth\": 2, \"linecolor\": \"white\", \"showbackground\": true, \"ticks\": \"\", \"zerolinecolor\": \"white\"}}, \"shapedefaults\": {\"line\": {\"color\": \"#2a3f5f\"}}, \"ternary\": {\"aaxis\": {\"gridcolor\": \"white\", \"linecolor\": \"white\", \"ticks\": \"\"}, \"baxis\": {\"gridcolor\": \"white\", \"linecolor\": \"white\", \"ticks\": \"\"}, \"bgcolor\": \"#E5ECF6\", \"caxis\": {\"gridcolor\": \"white\", \"linecolor\": \"white\", \"ticks\": \"\"}}, \"title\": {\"x\": 0.05}, \"xaxis\": {\"automargin\": true, \"gridcolor\": \"white\", \"linecolor\": \"white\", \"ticks\": \"\", \"title\": {\"standoff\": 15}, \"zerolinecolor\": \"white\", \"zerolinewidth\": 2}, \"yaxis\": {\"automargin\": true, \"gridcolor\": \"white\", \"linecolor\": \"white\", \"ticks\": \"\", \"title\": {\"standoff\": 15}, \"zerolinecolor\": \"white\", \"zerolinewidth\": 2}}}, \"title\": {\"text\": \"Training History\"}, \"xaxis\": {\"anchor\": \"y\", \"domain\": [0.0, 1.0], \"title\": {\"text\": \"epoch\"}}, \"yaxis\": {\"anchor\": \"x\", \"domain\": [0.0, 1.0], \"title\": {\"text\": \"MCRMSE\"}}},\n",
              "                        {\"responsive\": true}\n",
              "                    ).then(function(){\n",
              "                            \n",
              "var gd = document.getElementById('606c7330-4736-493c-8fef-18d09ed876fc');\n",
              "var x = new MutationObserver(function (mutations, observer) {{\n",
              "        var display = window.getComputedStyle(gd).display;\n",
              "        if (!display || display === 'none') {{\n",
              "            console.log([gd, 'removed!']);\n",
              "            Plotly.purge(gd);\n",
              "            observer.disconnect();\n",
              "        }}\n",
              "}});\n",
              "\n",
              "// Listen for the removal of the full notebook cells\n",
              "var notebookContainer = gd.closest('#notebook-container');\n",
              "if (notebookContainer) {{\n",
              "    x.observe(notebookContainer, {childList: true});\n",
              "}}\n",
              "\n",
              "// Listen for the clearing of the current output cell\n",
              "var outputEl = gd.closest('.output');\n",
              "if (outputEl) {{\n",
              "    x.observe(outputEl, {childList: true});\n",
              "}}\n",
              "\n",
              "                        })\n",
              "                };\n",
              "                });\n",
              "            </script>\n",
              "        </div>"
            ]
          },
          "metadata": {
            "tags": []
          }
        }
      ]
    },
    {
      "cell_type": "markdown",
      "metadata": {
        "papermill": {
          "duration": 0.161773,
          "end_time": "2020-10-06T00:44:47.431282",
          "exception": false,
          "start_time": "2020-10-06T00:44:47.269509",
          "status": "completed"
        },
        "tags": [],
        "id": "fL5osV9zeu-O"
      },
      "source": [
        "## Load models and make predictions"
      ]
    },
    {
      "cell_type": "markdown",
      "metadata": {
        "papermill": {
          "duration": 0.161,
          "end_time": "2020-10-06T00:44:47.751947",
          "exception": false,
          "start_time": "2020-10-06T00:44:47.590947",
          "status": "completed"
        },
        "tags": [],
        "id": "Y29nFUmKeu-R"
      },
      "source": [
        "Public and private sets have different sequence lengths, so we will preprocess them separately and load models of different tensor shapes. This is possible because RNN models can accept sequences of varying lengths as inputs."
      ]
    },
    {
      "cell_type": "code",
      "metadata": {
        "execution": {
          "iopub.execute_input": "2020-10-06T00:44:49.295227Z",
          "iopub.status.busy": "2020-10-06T00:44:49.294115Z",
          "iopub.status.idle": "2020-10-06T00:45:14.512549Z",
          "shell.execute_reply": "2020-10-06T00:45:14.511824Z"
        },
        "papermill": {
          "duration": 26.590577,
          "end_time": "2020-10-06T00:45:14.512667",
          "exception": false,
          "start_time": "2020-10-06T00:44:47.922090",
          "status": "completed"
        },
        "tags": [],
        "id": "bxSjCkcgeu-T"
      },
      "source": [
        "# Caveat: The prediction format requires the output to be the same length as the input,\n",
        "# although it's not the case for the training data.\n",
        "model_public = build_model(seq_len=107, pred_len=107, embed_size=len(token2int))\n",
        "model_private = build_model(seq_len=130, pred_len=130, embed_size=len(token2int))\n",
        "\n",
        "model_public.load_weights('model.h5')\n",
        "model_private.load_weights('model.h5')"
      ],
      "execution_count": null,
      "outputs": []
    },
    {
      "cell_type": "code",
      "metadata": {
        "execution": {
          "iopub.execute_input": "2020-10-06T00:45:14.856444Z",
          "iopub.status.busy": "2020-10-06T00:45:14.855298Z",
          "iopub.status.idle": "2020-10-06T00:45:47.974076Z",
          "shell.execute_reply": "2020-10-06T00:45:47.973049Z"
        },
        "papermill": {
          "duration": 33.290329,
          "end_time": "2020-10-06T00:45:47.974236",
          "exception": false,
          "start_time": "2020-10-06T00:45:14.683907",
          "status": "completed"
        },
        "tags": [],
        "id": "IH6iuviOeu-d"
      },
      "source": [
        "public_preds = model_public.predict(public_inputs)\n",
        "private_preds = model_private.predict(private_inputs)"
      ],
      "execution_count": null,
      "outputs": []
    },
    {
      "cell_type": "markdown",
      "metadata": {
        "papermill": {
          "duration": 0.164214,
          "end_time": "2020-10-06T00:45:48.307772",
          "exception": false,
          "start_time": "2020-10-06T00:45:48.143558",
          "status": "completed"
        },
        "tags": [],
        "id": "ptF0AgrIeu-i"
      },
      "source": [
        "## Post-processing and submit"
      ]
    },
    {
      "cell_type": "markdown",
      "metadata": {
        "papermill": {
          "duration": 0.160614,
          "end_time": "2020-10-06T00:45:48.634197",
          "exception": false,
          "start_time": "2020-10-06T00:45:48.473583",
          "status": "completed"
        },
        "tags": [],
        "id": "RYbPeq1Oeu-j"
      },
      "source": [
        "For each sample, we take the predicted tensors of shape (107, 5) or (130, 5), and convert them to the long format (i.e. $629 \\times 107, 5$ or $3005 \\times 130, 5$):"
      ]
    },
    {
      "cell_type": "code",
      "metadata": {
        "execution": {
          "iopub.execute_input": "2020-10-06T00:45:49.017962Z",
          "iopub.status.busy": "2020-10-06T00:45:48.991709Z",
          "iopub.status.idle": "2020-10-06T00:45:53.347565Z",
          "shell.execute_reply": "2020-10-06T00:45:53.346902Z"
        },
        "papermill": {
          "duration": 4.552473,
          "end_time": "2020-10-06T00:45:53.347686",
          "exception": false,
          "start_time": "2020-10-06T00:45:48.795213",
          "status": "completed"
        },
        "tags": [],
        "id": "EhDuxgObeu-l",
        "outputId": "ddd176af-7a3e-4ae5-a6f8-7514a5dd2f6e"
      },
      "source": [
        "preds_ls = []\n",
        "\n",
        "for df, preds in [(public_df, public_preds), (private_df, private_preds)]:\n",
        "    for i, uid in enumerate(df.id):\n",
        "        single_pred = preds[i]\n",
        "\n",
        "        single_df = pd.DataFrame(single_pred, columns=pred_cols)\n",
        "        single_df['id_seqpos'] = [f'{uid}_{x}' for x in range(single_df.shape[0])]\n",
        "\n",
        "        preds_ls.append(single_df)\n",
        "\n",
        "preds_df = pd.concat(preds_ls)\n",
        "preds_df.head()"
      ],
      "execution_count": null,
      "outputs": [
        {
          "output_type": "execute_result",
          "data": {
            "text/html": [
              "<div>\n",
              "<style scoped>\n",
              "    .dataframe tbody tr th:only-of-type {\n",
              "        vertical-align: middle;\n",
              "    }\n",
              "\n",
              "    .dataframe tbody tr th {\n",
              "        vertical-align: top;\n",
              "    }\n",
              "\n",
              "    .dataframe thead th {\n",
              "        text-align: right;\n",
              "    }\n",
              "</style>\n",
              "<table border=\"1\" class=\"dataframe\">\n",
              "  <thead>\n",
              "    <tr style=\"text-align: right;\">\n",
              "      <th></th>\n",
              "      <th>reactivity</th>\n",
              "      <th>deg_Mg_pH10</th>\n",
              "      <th>deg_Mg_50C</th>\n",
              "      <th>deg_pH10</th>\n",
              "      <th>deg_50C</th>\n",
              "      <th>id_seqpos</th>\n",
              "    </tr>\n",
              "  </thead>\n",
              "  <tbody>\n",
              "    <tr>\n",
              "      <th>0</th>\n",
              "      <td>0.566195</td>\n",
              "      <td>0.615158</td>\n",
              "      <td>0.504208</td>\n",
              "      <td>1.865444</td>\n",
              "      <td>0.761384</td>\n",
              "      <td>id_00073f8be_0</td>\n",
              "    </tr>\n",
              "    <tr>\n",
              "      <th>1</th>\n",
              "      <td>1.930257</td>\n",
              "      <td>2.796616</td>\n",
              "      <td>2.967012</td>\n",
              "      <td>4.224547</td>\n",
              "      <td>2.804580</td>\n",
              "      <td>id_00073f8be_1</td>\n",
              "    </tr>\n",
              "    <tr>\n",
              "      <th>2</th>\n",
              "      <td>1.391189</td>\n",
              "      <td>0.550995</td>\n",
              "      <td>0.533514</td>\n",
              "      <td>0.681997</td>\n",
              "      <td>0.620566</td>\n",
              "      <td>id_00073f8be_2</td>\n",
              "    </tr>\n",
              "    <tr>\n",
              "      <th>3</th>\n",
              "      <td>1.201813</td>\n",
              "      <td>1.119557</td>\n",
              "      <td>1.619588</td>\n",
              "      <td>1.244817</td>\n",
              "      <td>1.668552</td>\n",
              "      <td>id_00073f8be_3</td>\n",
              "    </tr>\n",
              "    <tr>\n",
              "      <th>4</th>\n",
              "      <td>0.727673</td>\n",
              "      <td>0.509008</td>\n",
              "      <td>0.752700</td>\n",
              "      <td>0.466805</td>\n",
              "      <td>0.766629</td>\n",
              "      <td>id_00073f8be_4</td>\n",
              "    </tr>\n",
              "  </tbody>\n",
              "</table>\n",
              "</div>"
            ],
            "text/plain": [
              "   reactivity  deg_Mg_pH10  deg_Mg_50C  deg_pH10   deg_50C       id_seqpos\n",
              "0    0.566195     0.615158    0.504208  1.865444  0.761384  id_00073f8be_0\n",
              "1    1.930257     2.796616    2.967012  4.224547  2.804580  id_00073f8be_1\n",
              "2    1.391189     0.550995    0.533514  0.681997  0.620566  id_00073f8be_2\n",
              "3    1.201813     1.119557    1.619588  1.244817  1.668552  id_00073f8be_3\n",
              "4    0.727673     0.509008    0.752700  0.466805  0.766629  id_00073f8be_4"
            ]
          },
          "metadata": {
            "tags": []
          },
          "execution_count": 20
        }
      ]
    },
    {
      "cell_type": "code",
      "metadata": {
        "execution": {
          "iopub.execute_input": "2020-10-06T00:45:53.707130Z",
          "iopub.status.busy": "2020-10-06T00:45:53.706036Z",
          "iopub.status.idle": "2020-10-06T00:45:58.975219Z",
          "shell.execute_reply": "2020-10-06T00:45:58.973759Z"
        },
        "papermill": {
          "duration": 5.451918,
          "end_time": "2020-10-06T00:45:58.975385",
          "exception": false,
          "start_time": "2020-10-06T00:45:53.523467",
          "status": "completed"
        },
        "tags": [],
        "id": "HdhsO2GReu-p"
      },
      "source": [
        "submission = sample_df[['id_seqpos']].merge(preds_df, on=['id_seqpos'])\n",
        "submission.to_csv('submission.csv', index=False)"
      ],
      "execution_count": null,
      "outputs": []
    }
  ]
}