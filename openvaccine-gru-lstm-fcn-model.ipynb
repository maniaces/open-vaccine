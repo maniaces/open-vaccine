{
 "cells": [
  {
   "cell_type": "code",
   "execution_count": 1,
   "metadata": {
    "_cell_guid": "b1076dfc-b9ad-4769-8c92-a6c4dae69d19",
    "_uuid": "8f2839f25d086af736a60e9eeb907d3b93b6e0e5",
    "execution": {
     "iopub.execute_input": "2020-10-05T23:38:52.949620Z",
     "iopub.status.busy": "2020-10-05T23:38:52.948716Z",
     "iopub.status.idle": "2020-10-05T23:38:59.678268Z",
     "shell.execute_reply": "2020-10-05T23:38:59.679158Z"
    },
    "papermill": {
     "duration": 6.760823,
     "end_time": "2020-10-05T23:38:59.679375",
     "exception": false,
     "start_time": "2020-10-05T23:38:52.918552",
     "status": "completed"
    },
    "tags": []
   },
   "outputs": [],
   "source": [
    "import json\n",
    "\n",
    "import pandas as pd\n",
    "import numpy as np\n",
    "import plotly.express as px\n",
    "import tensorflow.keras.layers as L\n",
    "import tensorflow as tf\n",
    "from sklearn.model_selection import train_test_split"
   ]
  },
  {
   "cell_type": "markdown",
   "metadata": {
    "papermill": {
     "duration": 0.03181,
     "end_time": "2020-10-05T23:38:59.745368",
     "exception": false,
     "start_time": "2020-10-05T23:38:59.713558",
     "status": "completed"
    },
    "tags": []
   },
   "source": [
    "## Set seed to ensure reproducibility"
   ]
  },
  {
   "cell_type": "code",
   "execution_count": 2,
   "metadata": {
    "execution": {
     "iopub.execute_input": "2020-10-05T23:38:59.846691Z",
     "iopub.status.busy": "2020-10-05T23:38:59.845582Z",
     "iopub.status.idle": "2020-10-05T23:38:59.848432Z",
     "shell.execute_reply": "2020-10-05T23:38:59.847605Z"
    },
    "papermill": {
     "duration": 0.063469,
     "end_time": "2020-10-05T23:38:59.848570",
     "exception": false,
     "start_time": "2020-10-05T23:38:59.785101",
     "status": "completed"
    },
    "tags": []
   },
   "outputs": [],
   "source": [
    "tf.random.set_seed(2020)\n",
    "np.random.seed(2020)"
   ]
  },
  {
   "cell_type": "markdown",
   "metadata": {
    "papermill": {
     "duration": 0.030769,
     "end_time": "2020-10-05T23:38:59.912676",
     "exception": false,
     "start_time": "2020-10-05T23:38:59.881907",
     "status": "completed"
    },
    "tags": []
   },
   "source": [
    "## Helper functions and useful variables"
   ]
  },
  {
   "cell_type": "code",
   "execution_count": 3,
   "metadata": {
    "execution": {
     "iopub.execute_input": "2020-10-05T23:38:59.980453Z",
     "iopub.status.busy": "2020-10-05T23:38:59.979606Z",
     "iopub.status.idle": "2020-10-05T23:38:59.981811Z",
     "shell.execute_reply": "2020-10-05T23:38:59.981203Z"
    },
    "papermill": {
     "duration": 0.0395,
     "end_time": "2020-10-05T23:38:59.981917",
     "exception": false,
     "start_time": "2020-10-05T23:38:59.942417",
     "status": "completed"
    },
    "tags": []
   },
   "outputs": [],
   "source": [
    "# This will tell us the columns we are predicting\n",
    "pred_cols = ['reactivity', 'deg_Mg_pH10', 'deg_Mg_50C', 'deg_pH10', 'deg_50C']"
   ]
  },
  {
   "cell_type": "code",
   "execution_count": 4,
   "metadata": {
    "execution": {
     "iopub.execute_input": "2020-10-05T23:39:02.284742Z",
     "iopub.status.busy": "2020-10-05T23:39:02.283818Z",
     "iopub.status.idle": "2020-10-05T23:39:02.606035Z",
     "shell.execute_reply": "2020-10-05T23:39:02.606635Z"
    },
    "papermill": {
     "duration": 2.596859,
     "end_time": "2020-10-05T23:39:02.606779",
     "exception": false,
     "start_time": "2020-10-05T23:39:00.009920",
     "status": "completed"
    },
    "tags": []
   },
   "outputs": [],
   "source": [
    "y_true = tf.random.normal((32, 68, 3))\n",
    "y_pred = tf.random.normal((32, 68, 3))"
   ]
  },
  {
   "cell_type": "code",
   "execution_count": 5,
   "metadata": {
    "execution": {
     "iopub.execute_input": "2020-10-05T23:39:02.661790Z",
     "iopub.status.busy": "2020-10-05T23:39:02.660814Z",
     "iopub.status.idle": "2020-10-05T23:39:02.664943Z",
     "shell.execute_reply": "2020-10-05T23:39:02.664435Z"
    },
    "papermill": {
     "duration": 0.033784,
     "end_time": "2020-10-05T23:39:02.665049",
     "exception": false,
     "start_time": "2020-10-05T23:39:02.631265",
     "status": "completed"
    },
    "tags": []
   },
   "outputs": [],
   "source": [
    "def MCRMSE(y_true, y_pred):\n",
    "    colwise_mse = tf.reduce_mean(tf.square(y_true - y_pred), axis=1)\n",
    "    return tf.reduce_mean(tf.sqrt(colwise_mse), axis=1)"
   ]
  },
  {
   "cell_type": "code",
   "execution_count": 6,
   "metadata": {
    "execution": {
     "iopub.execute_input": "2020-10-05T23:39:02.718848Z",
     "iopub.status.busy": "2020-10-05T23:39:02.718029Z",
     "iopub.status.idle": "2020-10-05T23:39:02.721973Z",
     "shell.execute_reply": "2020-10-05T23:39:02.721465Z"
    },
    "papermill": {
     "duration": 0.033589,
     "end_time": "2020-10-05T23:39:02.722067",
     "exception": false,
     "start_time": "2020-10-05T23:39:02.688478",
     "status": "completed"
    },
    "tags": []
   },
   "outputs": [],
   "source": [
    "def gru_layer(hidden_dim, dropout):\n",
    "    return L.Bidirectional(L.GRU(\n",
    "        hidden_dim, dropout=dropout, return_sequences=True, kernel_initializer='orthogonal'))\n",
    "\n",
    "def lstm_layer(hidden_dim, dropout):\n",
    "    return L.Bidirectional(L.LSTM(\n",
    "        hidden_dim, dropout=dropout, return_sequences=True, kernel_initializer='orthogonal'))\n"
   ]
  },
  {
   "cell_type": "markdown",
   "metadata": {
    "papermill": {
     "duration": 0.023231,
     "end_time": "2020-10-05T23:39:02.768803",
     "exception": false,
     "start_time": "2020-10-05T23:39:02.745572",
     "status": "completed"
    },
    "tags": []
   },
   "source": [
    "y = Conv1D(128, 8, padding='same', kernel_initializer='he_uniform')(y)\n",
    "    y = BatchNormalization()(y)\n",
    "    y = Activation('relu')(y)\n",
    "\n",
    "    y = Conv1D(256, 5, padding='same', kernel_initializer='he_uniform')(y)\n",
    "    y = BatchNormalization()(y)\n",
    "    y = Activation('relu')(y)\n",
    "\n",
    "    y = Conv1D(128, 3, padding='same', kernel_initializer='he_uniform')(y)\n",
    "    y = BatchNormalization()(y)\n",
    "    y = Activation('relu')(y)\n",
    "\n",
    "    y = GlobalAveragePooling1D()(y)"
   ]
  },
  {
   "cell_type": "code",
   "execution_count": 7,
   "metadata": {
    "execution": {
     "iopub.execute_input": "2020-10-05T23:39:02.822709Z",
     "iopub.status.busy": "2020-10-05T23:39:02.820836Z",
     "iopub.status.idle": "2020-10-05T23:39:02.823397Z",
     "shell.execute_reply": "2020-10-05T23:39:02.823929Z"
    },
    "papermill": {
     "duration": 0.032783,
     "end_time": "2020-10-05T23:39:02.824041",
     "exception": false,
     "start_time": "2020-10-05T23:39:02.791258",
     "status": "completed"
    },
    "tags": []
   },
   "outputs": [],
   "source": [
    "def pandas_list_to_array(df):\n",
    "    \"\"\"\n",
    "    Input: dataframe of shape (x, y), containing list of length l\n",
    "    Return: np.array of shape (x, l, y)\n",
    "    \"\"\"\n",
    "    \n",
    "    return np.transpose(\n",
    "        np.array(df.values.tolist()),\n",
    "        (0, 2, 1)\n",
    "    )"
   ]
  },
  {
   "cell_type": "code",
   "execution_count": 8,
   "metadata": {
    "execution": {
     "iopub.execute_input": "2020-10-05T23:39:02.878453Z",
     "iopub.status.busy": "2020-10-05T23:39:02.877710Z",
     "iopub.status.idle": "2020-10-05T23:39:02.882056Z",
     "shell.execute_reply": "2020-10-05T23:39:02.881505Z"
    },
    "papermill": {
     "duration": 0.034188,
     "end_time": "2020-10-05T23:39:02.882180",
     "exception": false,
     "start_time": "2020-10-05T23:39:02.847992",
     "status": "completed"
    },
    "tags": []
   },
   "outputs": [],
   "source": [
    "def preprocess_inputs(df, token2int, cols=['sequence', 'structure', 'predicted_loop_type']):\n",
    "    return pandas_list_to_array(\n",
    "        df[cols].applymap(lambda seq: [token2int[x] for x in seq])\n",
    "    )"
   ]
  },
  {
   "cell_type": "markdown",
   "metadata": {
    "papermill": {
     "duration": 0.023857,
     "end_time": "2020-10-05T23:39:02.929099",
     "exception": false,
     "start_time": "2020-10-05T23:39:02.905242",
     "status": "completed"
    },
    "tags": []
   },
   "source": [
    "## Load and preprocess data"
   ]
  },
  {
   "cell_type": "code",
   "execution_count": 9,
   "metadata": {
    "execution": {
     "iopub.execute_input": "2020-10-05T23:39:02.980633Z",
     "iopub.status.busy": "2020-10-05T23:39:02.979822Z",
     "iopub.status.idle": "2020-10-05T23:39:04.151847Z",
     "shell.execute_reply": "2020-10-05T23:39:04.150695Z"
    },
    "papermill": {
     "duration": 1.200052,
     "end_time": "2020-10-05T23:39:04.151982",
     "exception": false,
     "start_time": "2020-10-05T23:39:02.951930",
     "status": "completed"
    },
    "tags": []
   },
   "outputs": [],
   "source": [
    "data_dir = '/kaggle/input/stanford-covid-vaccine/'\n",
    "train = pd.read_json(data_dir + 'train.json', lines=True)\n",
    "test = pd.read_json(data_dir + 'test.json', lines=True)\n",
    "sample_df = pd.read_csv(data_dir + 'sample_submission.csv')"
   ]
  },
  {
   "cell_type": "code",
   "execution_count": 10,
   "metadata": {
    "execution": {
     "iopub.execute_input": "2020-10-05T23:39:04.218139Z",
     "iopub.status.busy": "2020-10-05T23:39:04.217360Z",
     "iopub.status.idle": "2020-10-05T23:39:04.229575Z",
     "shell.execute_reply": "2020-10-05T23:39:04.228679Z"
    },
    "papermill": {
     "duration": 0.054026,
     "end_time": "2020-10-05T23:39:04.229693",
     "exception": false,
     "start_time": "2020-10-05T23:39:04.175667",
     "status": "completed"
    },
    "tags": []
   },
   "outputs": [],
   "source": [
    "train = train.query(\"signal_to_noise >= 1\")"
   ]
  },
  {
   "cell_type": "code",
   "execution_count": 11,
   "metadata": {
    "execution": {
     "iopub.execute_input": "2020-10-05T23:39:04.286120Z",
     "iopub.status.busy": "2020-10-05T23:39:04.285104Z",
     "iopub.status.idle": "2020-10-05T23:39:04.583799Z",
     "shell.execute_reply": "2020-10-05T23:39:04.583234Z"
    },
    "papermill": {
     "duration": 0.330872,
     "end_time": "2020-10-05T23:39:04.583932",
     "exception": false,
     "start_time": "2020-10-05T23:39:04.253060",
     "status": "completed"
    },
    "tags": []
   },
   "outputs": [],
   "source": [
    "# We will use this dictionary to map each character to an integer\n",
    "# so that it can be used as an input in keras\n",
    "token2int = {x:i for i, x in enumerate('().ACGUBEHIMSX')}\n",
    "\n",
    "train_inputs = preprocess_inputs(train, token2int)\n",
    "train_labels = pandas_list_to_array(train[pred_cols])"
   ]
  },
  {
   "cell_type": "code",
   "execution_count": 12,
   "metadata": {
    "execution": {
     "iopub.execute_input": "2020-10-05T23:39:04.636491Z",
     "iopub.status.busy": "2020-10-05T23:39:04.635787Z",
     "iopub.status.idle": "2020-10-05T23:39:04.646785Z",
     "shell.execute_reply": "2020-10-05T23:39:04.646267Z"
    },
    "papermill": {
     "duration": 0.039223,
     "end_time": "2020-10-05T23:39:04.646902",
     "exception": false,
     "start_time": "2020-10-05T23:39:04.607679",
     "status": "completed"
    },
    "tags": []
   },
   "outputs": [],
   "source": [
    "x_train, x_val, y_train, y_val = train_test_split(\n",
    "    train_inputs, train_labels, test_size=.1, random_state=34, stratify=train.SN_filter)"
   ]
  },
  {
   "cell_type": "markdown",
   "metadata": {
    "papermill": {
     "duration": 0.023313,
     "end_time": "2020-10-05T23:39:04.693965",
     "exception": false,
     "start_time": "2020-10-05T23:39:04.670652",
     "status": "completed"
    },
    "tags": []
   },
   "source": [
    "Public and private sets have different sequence lengths, so we will preprocess them separately and load models of different tensor shapes."
   ]
  },
  {
   "cell_type": "code",
   "execution_count": 13,
   "metadata": {
    "execution": {
     "iopub.execute_input": "2020-10-05T23:39:04.751734Z",
     "iopub.status.busy": "2020-10-05T23:39:04.750819Z",
     "iopub.status.idle": "2020-10-05T23:39:05.161038Z",
     "shell.execute_reply": "2020-10-05T23:39:05.161982Z"
    },
    "papermill": {
     "duration": 0.444626,
     "end_time": "2020-10-05T23:39:05.162185",
     "exception": false,
     "start_time": "2020-10-05T23:39:04.717559",
     "status": "completed"
    },
    "tags": []
   },
   "outputs": [],
   "source": [
    "public_df = test.query(\"seq_length == 107\")\n",
    "private_df = test.query(\"seq_length == 130\")\n",
    "\n",
    "public_inputs = preprocess_inputs(public_df, token2int)\n",
    "private_inputs = preprocess_inputs(private_df, token2int)"
   ]
  },
  {
   "cell_type": "markdown",
   "metadata": {
    "papermill": {
     "duration": 0.022981,
     "end_time": "2020-10-05T23:39:05.208566",
     "exception": false,
     "start_time": "2020-10-05T23:39:05.185585",
     "status": "completed"
    },
    "tags": []
   },
   "source": [
    "## Build and train model\n",
    "\n",
    "We will train a bi-directional GRU model. It has three layer and has dropout. To learn more about RNNs, LSTM and GRU, please see [this blog post](https://colah.github.io/posts/2015-08-Understanding-LSTMs/)."
   ]
  },
  {
   "cell_type": "code",
   "execution_count": 14,
   "metadata": {
    "execution": {
     "iopub.execute_input": "2020-10-05T23:39:05.278830Z",
     "iopub.status.busy": "2020-10-05T23:39:05.268804Z",
     "iopub.status.idle": "2020-10-05T23:39:05.330027Z",
     "shell.execute_reply": "2020-10-05T23:39:05.329465Z"
    },
    "papermill": {
     "duration": 0.097876,
     "end_time": "2020-10-05T23:39:05.330160",
     "exception": false,
     "start_time": "2020-10-05T23:39:05.232284",
     "status": "completed"
    },
    "tags": []
   },
   "outputs": [],
   "source": [
    "from keras.layers import Conv1D, BatchNormalization,GlobalMaxPooling1D, Permute, Dropout\n",
    "from keras.layers import Input, Dense, LSTM, concatenate, Activation\n",
    "from keras.models import Model\n",
    "\n",
    "def build_model(embed_size, seq_len=107, pred_len=68, dropout=0.5, \n",
    "                sp_dropout=0.2, embed_dim=200, hidden_dim=256, n_layers=16):\n",
    "    inputs = L.Input(shape=(seq_len, 3))\n",
    "    embed = L.Embedding(input_dim=embed_size, output_dim=embed_dim)(inputs)\n",
    "    \n",
    "    reshaped = tf.reshape(\n",
    "        embed, shape=(-1, embed.shape[1],  embed.shape[2] * embed.shape[3])\n",
    "    )\n",
    "    hiddenn = L.SpatialDropout1D(sp_dropout)(reshaped)\n",
    "    m_layers= 5\n",
    "    for y in range(m_layers):\n",
    "        h = lstm_layer(hidden_dim, dropout)(hiddenn)\n",
    "        h = Conv1D(512, 5, padding='same', activation=tf.keras.activations.swish)(h)\n",
    "        h = BatchNormalization()(h)\n",
    "        hiddenn = Activation('relu')(h)\n",
    "        \n",
    "    y = lstm_layer(hidden_dim*2, dropout)(h) \n",
    "    x = concatenate([h, y])\n",
    "    \n",
    "    y = gru_layer(hidden_dim, dropout)(x)\n",
    "    z = Conv1D(512, 5, padding='same', activation=tf.keras.activations.swish)(y)\n",
    "    h = BatchNormalization()(h)\n",
    "    hiddenn = Activation('relu')(h)\n",
    "    z = Conv1D(512, 5, padding='same', activation=tf.keras.activations.swish)(h)    \n",
    "    z = Conv1D(512, 5, padding='same', activation=tf.keras.activations.swish)(z)\n",
    "    z = gru_layer(hidden_dim, dropout)(z)\n",
    "    z = lstm_layer(hidden_dim*2, dropout)(z)\n",
    "    xx = concatenate([x, z])\n",
    "    for y in range(m_layers):\n",
    "        y = gru_layer(hidden_dim, dropout)(xx)\n",
    "        z = Conv1D(512, 5, padding='same', activation=tf.keras.activations.swish)(y)\n",
    "        z = gru_layer(hidden_dim*4, dropout)(z)\n",
    "        z = lstm_layer(hidden_dim*2, dropout)(z)\n",
    "        xx = concatenate([x, z])\n",
    "    out = Dense(150, activation='linear')(xx)\n",
    "    # Since we are only making predictions on the first part of each sequence, \n",
    "    # we have to truncate it\n",
    "    truncated = out[:, :pred_len]\n",
    "    out = L.Dense(5, activation='linear')(truncated)\n",
    "    \n",
    "    model = tf.keras.Model(inputs=inputs, outputs=out)\n",
    "    model.compile(tf.optimizers.Adam(), loss=MCRMSE)\n",
    "    \n",
    "    return model"
   ]
  },
  {
   "cell_type": "code",
   "execution_count": 15,
   "metadata": {
    "execution": {
     "iopub.execute_input": "2020-10-05T23:39:05.383121Z",
     "iopub.status.busy": "2020-10-05T23:39:05.382472Z",
     "iopub.status.idle": "2020-10-05T23:39:41.158201Z",
     "shell.execute_reply": "2020-10-05T23:39:41.159038Z"
    },
    "papermill": {
     "duration": 35.80528,
     "end_time": "2020-10-05T23:39:41.159285",
     "exception": false,
     "start_time": "2020-10-05T23:39:05.354005",
     "status": "completed"
    },
    "tags": []
   },
   "outputs": [
    {
     "name": "stdout",
     "output_type": "stream",
     "text": [
      "Model: \"functional_1\"\n",
      "__________________________________________________________________________________________________\n",
      "Layer (type)                    Output Shape         Param #     Connected to                     \n",
      "==================================================================================================\n",
      "input_1 (InputLayer)            [(None, 107, 3)]     0                                            \n",
      "__________________________________________________________________________________________________\n",
      "embedding (Embedding)           (None, 107, 3, 200)  2800        input_1[0][0]                    \n",
      "__________________________________________________________________________________________________\n",
      "tf_op_layer_Reshape (TensorFlow [(None, 107, 600)]   0           embedding[0][0]                  \n",
      "__________________________________________________________________________________________________\n",
      "spatial_dropout1d (SpatialDropo (None, 107, 600)     0           tf_op_layer_Reshape[0][0]        \n",
      "__________________________________________________________________________________________________\n",
      "bidirectional (Bidirectional)   (None, 107, 512)     1755136     spatial_dropout1d[0][0]          \n",
      "__________________________________________________________________________________________________\n",
      "conv1d (Conv1D)                 (None, 107, 512)     1311232     bidirectional[0][0]              \n",
      "__________________________________________________________________________________________________\n",
      "batch_normalization (BatchNorma (None, 107, 512)     2048        conv1d[0][0]                     \n",
      "__________________________________________________________________________________________________\n",
      "activation (Activation)         (None, 107, 512)     0           batch_normalization[0][0]        \n",
      "__________________________________________________________________________________________________\n",
      "bidirectional_1 (Bidirectional) (None, 107, 512)     1574912     activation[0][0]                 \n",
      "__________________________________________________________________________________________________\n",
      "conv1d_1 (Conv1D)               (None, 107, 512)     1311232     bidirectional_1[0][0]            \n",
      "__________________________________________________________________________________________________\n",
      "batch_normalization_1 (BatchNor (None, 107, 512)     2048        conv1d_1[0][0]                   \n",
      "__________________________________________________________________________________________________\n",
      "activation_1 (Activation)       (None, 107, 512)     0           batch_normalization_1[0][0]      \n",
      "__________________________________________________________________________________________________\n",
      "bidirectional_2 (Bidirectional) (None, 107, 512)     1574912     activation_1[0][0]               \n",
      "__________________________________________________________________________________________________\n",
      "conv1d_2 (Conv1D)               (None, 107, 512)     1311232     bidirectional_2[0][0]            \n",
      "__________________________________________________________________________________________________\n",
      "batch_normalization_2 (BatchNor (None, 107, 512)     2048        conv1d_2[0][0]                   \n",
      "__________________________________________________________________________________________________\n",
      "activation_2 (Activation)       (None, 107, 512)     0           batch_normalization_2[0][0]      \n",
      "__________________________________________________________________________________________________\n",
      "bidirectional_3 (Bidirectional) (None, 107, 512)     1574912     activation_2[0][0]               \n",
      "__________________________________________________________________________________________________\n",
      "conv1d_3 (Conv1D)               (None, 107, 512)     1311232     bidirectional_3[0][0]            \n",
      "__________________________________________________________________________________________________\n",
      "batch_normalization_3 (BatchNor (None, 107, 512)     2048        conv1d_3[0][0]                   \n",
      "__________________________________________________________________________________________________\n",
      "activation_3 (Activation)       (None, 107, 512)     0           batch_normalization_3[0][0]      \n",
      "__________________________________________________________________________________________________\n",
      "bidirectional_4 (Bidirectional) (None, 107, 512)     1574912     activation_3[0][0]               \n",
      "__________________________________________________________________________________________________\n",
      "conv1d_4 (Conv1D)               (None, 107, 512)     1311232     bidirectional_4[0][0]            \n",
      "__________________________________________________________________________________________________\n",
      "batch_normalization_4 (BatchNor (None, 107, 512)     2048        conv1d_4[0][0]                   \n",
      "__________________________________________________________________________________________________\n",
      "batch_normalization_5 (BatchNor (None, 107, 512)     2048        batch_normalization_4[0][0]      \n",
      "__________________________________________________________________________________________________\n",
      "conv1d_6 (Conv1D)               (None, 107, 512)     1311232     batch_normalization_5[0][0]      \n",
      "__________________________________________________________________________________________________\n",
      "conv1d_7 (Conv1D)               (None, 107, 512)     1311232     conv1d_6[0][0]                   \n",
      "__________________________________________________________________________________________________\n",
      "bidirectional_5 (Bidirectional) (None, 107, 1024)    4198400     batch_normalization_4[0][0]      \n",
      "__________________________________________________________________________________________________\n",
      "bidirectional_7 (Bidirectional) (None, 107, 512)     1182720     conv1d_7[0][0]                   \n",
      "__________________________________________________________________________________________________\n",
      "concatenate (Concatenate)       (None, 107, 1536)    0           batch_normalization_4[0][0]      \n",
      "                                                                 bidirectional_5[0][0]            \n",
      "__________________________________________________________________________________________________\n",
      "bidirectional_8 (Bidirectional) (None, 107, 1024)    4198400     bidirectional_7[0][0]            \n",
      "__________________________________________________________________________________________________\n",
      "concatenate_1 (Concatenate)     (None, 107, 2560)    0           concatenate[0][0]                \n",
      "                                                                 bidirectional_8[0][0]            \n",
      "__________________________________________________________________________________________________\n",
      "bidirectional_9 (Bidirectional) (None, 107, 512)     4328448     concatenate_1[0][0]              \n",
      "__________________________________________________________________________________________________\n",
      "conv1d_8 (Conv1D)               (None, 107, 512)     1311232     bidirectional_9[0][0]            \n",
      "__________________________________________________________________________________________________\n",
      "bidirectional_10 (Bidirectional (None, 107, 2048)    9449472     conv1d_8[0][0]                   \n",
      "__________________________________________________________________________________________________\n",
      "bidirectional_11 (Bidirectional (None, 107, 1024)    10489856    bidirectional_10[0][0]           \n",
      "__________________________________________________________________________________________________\n",
      "concatenate_2 (Concatenate)     (None, 107, 2560)    0           concatenate[0][0]                \n",
      "                                                                 bidirectional_11[0][0]           \n",
      "__________________________________________________________________________________________________\n",
      "bidirectional_12 (Bidirectional (None, 107, 512)     4328448     concatenate_2[0][0]              \n",
      "__________________________________________________________________________________________________\n",
      "conv1d_9 (Conv1D)               (None, 107, 512)     1311232     bidirectional_12[0][0]           \n",
      "__________________________________________________________________________________________________\n",
      "bidirectional_13 (Bidirectional (None, 107, 2048)    9449472     conv1d_9[0][0]                   \n",
      "__________________________________________________________________________________________________\n",
      "bidirectional_14 (Bidirectional (None, 107, 1024)    10489856    bidirectional_13[0][0]           \n",
      "__________________________________________________________________________________________________\n",
      "concatenate_3 (Concatenate)     (None, 107, 2560)    0           concatenate[0][0]                \n",
      "                                                                 bidirectional_14[0][0]           \n",
      "__________________________________________________________________________________________________\n",
      "bidirectional_15 (Bidirectional (None, 107, 512)     4328448     concatenate_3[0][0]              \n",
      "__________________________________________________________________________________________________\n",
      "conv1d_10 (Conv1D)              (None, 107, 512)     1311232     bidirectional_15[0][0]           \n",
      "__________________________________________________________________________________________________\n",
      "bidirectional_16 (Bidirectional (None, 107, 2048)    9449472     conv1d_10[0][0]                  \n",
      "__________________________________________________________________________________________________\n",
      "bidirectional_17 (Bidirectional (None, 107, 1024)    10489856    bidirectional_16[0][0]           \n",
      "__________________________________________________________________________________________________\n",
      "concatenate_4 (Concatenate)     (None, 107, 2560)    0           concatenate[0][0]                \n",
      "                                                                 bidirectional_17[0][0]           \n",
      "__________________________________________________________________________________________________\n",
      "bidirectional_18 (Bidirectional (None, 107, 512)     4328448     concatenate_4[0][0]              \n",
      "__________________________________________________________________________________________________\n",
      "conv1d_11 (Conv1D)              (None, 107, 512)     1311232     bidirectional_18[0][0]           \n",
      "__________________________________________________________________________________________________\n",
      "bidirectional_19 (Bidirectional (None, 107, 2048)    9449472     conv1d_11[0][0]                  \n",
      "__________________________________________________________________________________________________\n",
      "bidirectional_20 (Bidirectional (None, 107, 1024)    10489856    bidirectional_19[0][0]           \n",
      "__________________________________________________________________________________________________\n",
      "concatenate_5 (Concatenate)     (None, 107, 2560)    0           concatenate[0][0]                \n",
      "                                                                 bidirectional_20[0][0]           \n",
      "__________________________________________________________________________________________________\n",
      "bidirectional_21 (Bidirectional (None, 107, 512)     4328448     concatenate_5[0][0]              \n",
      "__________________________________________________________________________________________________\n",
      "conv1d_12 (Conv1D)              (None, 107, 512)     1311232     bidirectional_21[0][0]           \n",
      "__________________________________________________________________________________________________\n",
      "bidirectional_22 (Bidirectional (None, 107, 2048)    9449472     conv1d_12[0][0]                  \n",
      "__________________________________________________________________________________________________\n",
      "bidirectional_23 (Bidirectional (None, 107, 1024)    10489856    bidirectional_22[0][0]           \n",
      "__________________________________________________________________________________________________\n",
      "concatenate_6 (Concatenate)     (None, 107, 2560)    0           concatenate[0][0]                \n",
      "                                                                 bidirectional_23[0][0]           \n",
      "__________________________________________________________________________________________________\n",
      "dense (Dense)                   (None, 107, 150)     384150      concatenate_6[0][0]              \n",
      "__________________________________________________________________________________________________\n",
      "tf_op_layer_strided_slice (Tens [(None, 68, 150)]    0           dense[0][0]                      \n",
      "__________________________________________________________________________________________________\n",
      "dense_1 (Dense)                 (None, 68, 5)        755         tf_op_layer_strided_slice[0][0]  \n",
      "==================================================================================================\n",
      "Total params: 155,107,961\n",
      "Trainable params: 155,101,817\n",
      "Non-trainable params: 6,144\n",
      "__________________________________________________________________________________________________\n"
     ]
    }
   ],
   "source": [
    "model = build_model(embed_size=len(token2int))\n",
    "model.summary()"
   ]
  },
  {
   "cell_type": "code",
   "execution_count": 16,
   "metadata": {
    "_kg_hide-output": true,
    "execution": {
     "iopub.execute_input": "2020-10-05T23:39:41.227608Z",
     "iopub.status.busy": "2020-10-05T23:39:41.226797Z",
     "iopub.status.idle": "2020-10-06T02:33:26.836289Z",
     "shell.execute_reply": "2020-10-06T02:33:26.836895Z"
    },
    "papermill": {
     "duration": 10425.642414,
     "end_time": "2020-10-06T02:33:26.837044",
     "exception": false,
     "start_time": "2020-10-05T23:39:41.194630",
     "status": "completed"
    },
    "tags": []
   },
   "outputs": [
    {
     "name": "stdout",
     "output_type": "stream",
     "text": [
      "Epoch 1/200\n",
      "30/30 - 66s - loss: 1.1004 - val_loss: 0.6078\n",
      "Epoch 2/200\n",
      "30/30 - 50s - loss: 0.4172 - val_loss: 0.4774\n",
      "Epoch 3/200\n",
      "30/30 - 50s - loss: 0.3949 - val_loss: 0.4743\n",
      "Epoch 4/200\n",
      "30/30 - 50s - loss: 0.3812 - val_loss: 0.4501\n",
      "Epoch 5/200\n",
      "30/30 - 50s - loss: 0.3641 - val_loss: 0.4462\n",
      "Epoch 6/200\n",
      "30/30 - 50s - loss: 0.3555 - val_loss: 0.4272\n",
      "Epoch 7/200\n",
      "30/30 - 50s - loss: 0.3505 - val_loss: 0.4346\n",
      "Epoch 8/200\n",
      "30/30 - 50s - loss: 0.3444 - val_loss: 0.4214\n",
      "Epoch 9/200\n",
      "30/30 - 50s - loss: 0.3409 - val_loss: 0.4093\n",
      "Epoch 10/200\n",
      "30/30 - 50s - loss: 0.3350 - val_loss: 0.4056\n",
      "Epoch 11/200\n",
      "30/30 - 50s - loss: 0.3330 - val_loss: 0.3966\n",
      "Epoch 12/200\n",
      "30/30 - 50s - loss: 0.3272 - val_loss: 0.4052\n",
      "Epoch 13/200\n",
      "30/30 - 50s - loss: 0.3236 - val_loss: 0.3878\n",
      "Epoch 14/200\n",
      "30/30 - 50s - loss: 0.3211 - val_loss: 0.3746\n",
      "Epoch 15/200\n",
      "30/30 - 50s - loss: 0.3157 - val_loss: 0.3601\n",
      "Epoch 16/200\n",
      "30/30 - 50s - loss: 0.3100 - val_loss: 0.3498\n",
      "Epoch 17/200\n",
      "30/30 - 50s - loss: 0.3020 - val_loss: 0.3318\n",
      "Epoch 18/200\n",
      "30/30 - 50s - loss: 0.2929 - val_loss: 0.3166\n",
      "Epoch 19/200\n",
      "30/30 - 50s - loss: 0.2870 - val_loss: 0.3457\n",
      "Epoch 20/200\n",
      "30/30 - 50s - loss: 0.2865 - val_loss: 0.3332\n",
      "Epoch 21/200\n",
      "30/30 - 51s - loss: 0.2803 - val_loss: 0.3250\n",
      "Epoch 22/200\n",
      "30/30 - 50s - loss: 0.2737 - val_loss: 0.2868\n",
      "Epoch 23/200\n",
      "30/30 - 50s - loss: 0.2679 - val_loss: 0.2976\n",
      "Epoch 24/200\n",
      "30/30 - 50s - loss: 0.2659 - val_loss: 0.2814\n",
      "Epoch 25/200\n",
      "30/30 - 50s - loss: 0.2633 - val_loss: 0.2792\n",
      "Epoch 26/200\n",
      "30/30 - 50s - loss: 0.2625 - val_loss: 0.2843\n",
      "Epoch 27/200\n",
      "30/30 - 50s - loss: 0.2580 - val_loss: 0.2855\n",
      "Epoch 28/200\n",
      "30/30 - 51s - loss: 0.2559 - val_loss: 0.2713\n",
      "Epoch 29/200\n",
      "30/30 - 50s - loss: 0.2519 - val_loss: 0.2672\n",
      "Epoch 30/200\n",
      "30/30 - 50s - loss: 0.2496 - val_loss: 0.2772\n",
      "Epoch 31/200\n",
      "30/30 - 50s - loss: 0.2478 - val_loss: 0.2592\n",
      "Epoch 32/200\n",
      "30/30 - 50s - loss: 0.2461 - val_loss: 0.2729\n",
      "Epoch 33/200\n",
      "30/30 - 50s - loss: 0.2446 - val_loss: 0.2597\n",
      "Epoch 34/200\n",
      "30/30 - 50s - loss: 0.2435 - val_loss: 0.2615\n",
      "Epoch 35/200\n",
      "30/30 - 51s - loss: 0.2398 - val_loss: 0.2535\n",
      "Epoch 36/200\n",
      "30/30 - 50s - loss: 0.2378 - val_loss: 0.2793\n",
      "Epoch 37/200\n",
      "30/30 - 50s - loss: 0.2367 - val_loss: 0.2546\n",
      "Epoch 38/200\n",
      "30/30 - 50s - loss: 0.2358 - val_loss: 0.2596\n",
      "Epoch 39/200\n",
      "30/30 - 50s - loss: 0.2334 - val_loss: 0.2641\n",
      "Epoch 40/200\n",
      "30/30 - 50s - loss: 0.2310 - val_loss: 0.2569\n",
      "Epoch 41/200\n",
      "30/30 - 50s - loss: 0.2253 - val_loss: 0.2423\n",
      "Epoch 42/200\n",
      "30/30 - 50s - loss: 0.2212 - val_loss: 0.2373\n",
      "Epoch 43/200\n",
      "30/30 - 50s - loss: 0.2203 - val_loss: 0.2394\n",
      "Epoch 44/200\n",
      "30/30 - 50s - loss: 0.2205 - val_loss: 0.2383\n",
      "Epoch 45/200\n",
      "30/30 - 50s - loss: 0.2198 - val_loss: 0.2351\n",
      "Epoch 46/200\n",
      "30/30 - 50s - loss: 0.2187 - val_loss: 0.2353\n",
      "Epoch 47/200\n",
      "30/30 - 50s - loss: 0.2190 - val_loss: 0.2354\n",
      "Epoch 48/200\n",
      "30/30 - 50s - loss: 0.2186 - val_loss: 0.2341\n",
      "Epoch 49/200\n",
      "30/30 - 50s - loss: 0.2180 - val_loss: 0.2376\n",
      "Epoch 50/200\n",
      "30/30 - 51s - loss: 0.2174 - val_loss: 0.2352\n",
      "Epoch 51/200\n",
      "30/30 - 50s - loss: 0.2166 - val_loss: 0.2355\n",
      "Epoch 52/200\n",
      "30/30 - 50s - loss: 0.2170 - val_loss: 0.2338\n",
      "Epoch 53/200\n",
      "30/30 - 50s - loss: 0.2161 - val_loss: 0.2375\n",
      "Epoch 54/200\n",
      "30/30 - 50s - loss: 0.2155 - val_loss: 0.2370\n",
      "Epoch 55/200\n",
      "30/30 - 50s - loss: 0.2155 - val_loss: 0.2327\n",
      "Epoch 56/200\n",
      "30/30 - 50s - loss: 0.2153 - val_loss: 0.2335\n",
      "Epoch 57/200\n",
      "30/30 - 50s - loss: 0.2145 - val_loss: 0.2349\n",
      "Epoch 58/200\n",
      "30/30 - 50s - loss: 0.2142 - val_loss: 0.2336\n",
      "Epoch 59/200\n",
      "30/30 - 50s - loss: 0.2144 - val_loss: 0.2328\n",
      "Epoch 60/200\n",
      "30/30 - 50s - loss: 0.2137 - val_loss: 0.2374\n",
      "Epoch 61/200\n",
      "30/30 - 50s - loss: 0.2126 - val_loss: 0.2340\n",
      "Epoch 62/200\n",
      "30/30 - 50s - loss: 0.2130 - val_loss: 0.2338\n",
      "Epoch 63/200\n",
      "30/30 - 50s - loss: 0.2126 - val_loss: 0.2333\n",
      "Epoch 64/200\n",
      "30/30 - 51s - loss: 0.2119 - val_loss: 0.2337\n",
      "Epoch 65/200\n",
      "30/30 - 50s - loss: 0.2117 - val_loss: 0.2339\n",
      "Epoch 66/200\n",
      "30/30 - 50s - loss: 0.2124 - val_loss: 0.2341\n",
      "Epoch 67/200\n",
      "30/30 - 50s - loss: 0.2117 - val_loss: 0.2343\n",
      "Epoch 68/200\n",
      "30/30 - 50s - loss: 0.2120 - val_loss: 0.2343\n",
      "Epoch 69/200\n",
      "30/30 - 50s - loss: 0.2121 - val_loss: 0.2344\n",
      "Epoch 70/200\n",
      "30/30 - 50s - loss: 0.2116 - val_loss: 0.2344\n",
      "Epoch 71/200\n",
      "30/30 - 50s - loss: 0.2118 - val_loss: 0.2345\n",
      "Epoch 72/200\n",
      "30/30 - 51s - loss: 0.2119 - val_loss: 0.2346\n",
      "Epoch 73/200\n",
      "30/30 - 50s - loss: 0.2121 - val_loss: 0.2345\n",
      "Epoch 74/200\n",
      "30/30 - 50s - loss: 0.2117 - val_loss: 0.2346\n",
      "Epoch 75/200\n",
      "30/30 - 50s - loss: 0.2118 - val_loss: 0.2346\n",
      "Epoch 76/200\n",
      "30/30 - 50s - loss: 0.2120 - val_loss: 0.2346\n",
      "Epoch 77/200\n",
      "30/30 - 50s - loss: 0.2119 - val_loss: 0.2346\n",
      "Epoch 78/200\n",
      "30/30 - 50s - loss: 0.2123 - val_loss: 0.2347\n",
      "Epoch 79/200\n",
      "30/30 - 51s - loss: 0.2119 - val_loss: 0.2346\n",
      "Epoch 80/200\n",
      "30/30 - 50s - loss: 0.2123 - val_loss: 0.2346\n",
      "Epoch 81/200\n",
      "30/30 - 50s - loss: 0.2118 - val_loss: 0.2346\n",
      "Epoch 82/200\n",
      "30/30 - 50s - loss: 0.2123 - val_loss: 0.2346\n",
      "Epoch 83/200\n",
      "30/30 - 50s - loss: 0.2118 - val_loss: 0.2346\n",
      "Epoch 84/200\n",
      "30/30 - 50s - loss: 0.2120 - val_loss: 0.2346\n",
      "Epoch 85/200\n",
      "30/30 - 50s - loss: 0.2124 - val_loss: 0.2347\n",
      "Epoch 86/200\n",
      "30/30 - 50s - loss: 0.2120 - val_loss: 0.2347\n",
      "Epoch 87/200\n",
      "30/30 - 50s - loss: 0.2118 - val_loss: 0.2347\n",
      "Epoch 88/200\n",
      "30/30 - 50s - loss: 0.2116 - val_loss: 0.2346\n",
      "Epoch 89/200\n",
      "30/30 - 50s - loss: 0.2116 - val_loss: 0.2346\n",
      "Epoch 90/200\n",
      "30/30 - 50s - loss: 0.2121 - val_loss: 0.2346\n",
      "Epoch 91/200\n",
      "30/30 - 50s - loss: 0.2120 - val_loss: 0.2346\n",
      "Epoch 92/200\n",
      "30/30 - 51s - loss: 0.2119 - val_loss: 0.2346\n",
      "Epoch 93/200\n",
      "30/30 - 50s - loss: 0.2121 - val_loss: 0.2346\n",
      "Epoch 94/200\n",
      "30/30 - 50s - loss: 0.2116 - val_loss: 0.2346\n",
      "Epoch 95/200\n",
      "30/30 - 50s - loss: 0.2117 - val_loss: 0.2346\n",
      "Epoch 96/200\n",
      "30/30 - 50s - loss: 0.2121 - val_loss: 0.2346\n",
      "Epoch 97/200\n",
      "30/30 - 50s - loss: 0.2117 - val_loss: 0.2346\n",
      "Epoch 98/200\n",
      "30/30 - 50s - loss: 0.2123 - val_loss: 0.2346\n",
      "Epoch 99/200\n",
      "30/30 - 50s - loss: 0.2118 - val_loss: 0.2346\n",
      "Epoch 100/200\n",
      "30/30 - 50s - loss: 0.2118 - val_loss: 0.2345\n",
      "Epoch 101/200\n",
      "30/30 - 50s - loss: 0.2119 - val_loss: 0.2346\n",
      "Epoch 102/200\n",
      "30/30 - 50s - loss: 0.2120 - val_loss: 0.2346\n",
      "Epoch 103/200\n",
      "30/30 - 50s - loss: 0.2119 - val_loss: 0.2346\n",
      "Epoch 104/200\n",
      "30/30 - 50s - loss: 0.2119 - val_loss: 0.2346\n",
      "Epoch 105/200\n",
      "30/30 - 50s - loss: 0.2119 - val_loss: 0.2346\n",
      "Epoch 106/200\n",
      "30/30 - 50s - loss: 0.2118 - val_loss: 0.2346\n",
      "Epoch 107/200\n",
      "30/30 - 50s - loss: 0.2116 - val_loss: 0.2346\n",
      "Epoch 108/200\n",
      "30/30 - 50s - loss: 0.2116 - val_loss: 0.2346\n",
      "Epoch 109/200\n",
      "30/30 - 50s - loss: 0.2116 - val_loss: 0.2346\n",
      "Epoch 110/200\n",
      "30/30 - 50s - loss: 0.2120 - val_loss: 0.2346\n",
      "Epoch 111/200\n",
      "30/30 - 50s - loss: 0.2117 - val_loss: 0.2347\n",
      "Epoch 112/200\n",
      "30/30 - 50s - loss: 0.2120 - val_loss: 0.2346\n",
      "Epoch 113/200\n",
      "30/30 - 50s - loss: 0.2117 - val_loss: 0.2346\n",
      "Epoch 114/200\n",
      "30/30 - 50s - loss: 0.2119 - val_loss: 0.2346\n",
      "Epoch 115/200\n",
      "30/30 - 50s - loss: 0.2115 - val_loss: 0.2346\n",
      "Epoch 116/200\n",
      "30/30 - 50s - loss: 0.2116 - val_loss: 0.2346\n",
      "Epoch 117/200\n",
      "30/30 - 50s - loss: 0.2122 - val_loss: 0.2347\n",
      "Epoch 118/200\n",
      "30/30 - 50s - loss: 0.2120 - val_loss: 0.2347\n",
      "Epoch 119/200\n",
      "30/30 - 50s - loss: 0.2121 - val_loss: 0.2346\n",
      "Epoch 120/200\n",
      "30/30 - 50s - loss: 0.2118 - val_loss: 0.2346\n",
      "Epoch 121/200\n",
      "30/30 - 50s - loss: 0.2123 - val_loss: 0.2346\n",
      "Epoch 122/200\n",
      "30/30 - 51s - loss: 0.2120 - val_loss: 0.2346\n",
      "Epoch 123/200\n",
      "30/30 - 51s - loss: 0.2120 - val_loss: 0.2347\n",
      "Epoch 124/200\n",
      "30/30 - 50s - loss: 0.2119 - val_loss: 0.2346\n",
      "Epoch 125/200\n",
      "30/30 - 50s - loss: 0.2120 - val_loss: 0.2346\n",
      "Epoch 126/200\n",
      "30/30 - 50s - loss: 0.2120 - val_loss: 0.2346\n",
      "Epoch 127/200\n",
      "30/30 - 50s - loss: 0.2120 - val_loss: 0.2347\n",
      "Epoch 128/200\n",
      "30/30 - 50s - loss: 0.2123 - val_loss: 0.2347\n",
      "Epoch 129/200\n",
      "30/30 - 50s - loss: 0.2124 - val_loss: 0.2347\n",
      "Epoch 130/200\n",
      "30/30 - 51s - loss: 0.2121 - val_loss: 0.2347\n",
      "Epoch 131/200\n",
      "30/30 - 50s - loss: 0.2119 - val_loss: 0.2347\n",
      "Epoch 132/200\n",
      "30/30 - 50s - loss: 0.2122 - val_loss: 0.2347\n",
      "Epoch 133/200\n",
      "30/30 - 50s - loss: 0.2122 - val_loss: 0.2346\n",
      "Epoch 134/200\n",
      "30/30 - 50s - loss: 0.2115 - val_loss: 0.2346\n",
      "Epoch 135/200\n",
      "30/30 - 50s - loss: 0.2120 - val_loss: 0.2346\n",
      "Epoch 136/200\n",
      "30/30 - 50s - loss: 0.2116 - val_loss: 0.2346\n",
      "Epoch 137/200\n",
      "30/30 - 50s - loss: 0.2127 - val_loss: 0.2346\n",
      "Epoch 138/200\n",
      "30/30 - 50s - loss: 0.2117 - val_loss: 0.2346\n",
      "Epoch 139/200\n",
      "30/30 - 50s - loss: 0.2119 - val_loss: 0.2346\n",
      "Epoch 140/200\n",
      "30/30 - 50s - loss: 0.2118 - val_loss: 0.2346\n",
      "Epoch 141/200\n",
      "30/30 - 50s - loss: 0.2126 - val_loss: 0.2346\n",
      "Epoch 142/200\n",
      "30/30 - 50s - loss: 0.2121 - val_loss: 0.2346\n",
      "Epoch 143/200\n",
      "30/30 - 50s - loss: 0.2120 - val_loss: 0.2347\n",
      "Epoch 144/200\n",
      "30/30 - 50s - loss: 0.2113 - val_loss: 0.2346\n",
      "Epoch 145/200\n",
      "30/30 - 51s - loss: 0.2122 - val_loss: 0.2346\n",
      "Epoch 146/200\n",
      "30/30 - 50s - loss: 0.2118 - val_loss: 0.2346\n",
      "Epoch 147/200\n",
      "30/30 - 50s - loss: 0.2118 - val_loss: 0.2346\n",
      "Epoch 148/200\n",
      "30/30 - 50s - loss: 0.2122 - val_loss: 0.2346\n",
      "Epoch 149/200\n",
      "30/30 - 50s - loss: 0.2120 - val_loss: 0.2346\n",
      "Epoch 150/200\n",
      "30/30 - 50s - loss: 0.2114 - val_loss: 0.2346\n",
      "Epoch 151/200\n",
      "30/30 - 51s - loss: 0.2120 - val_loss: 0.2346\n",
      "Epoch 152/200\n",
      "30/30 - 50s - loss: 0.2120 - val_loss: 0.2347\n",
      "Epoch 153/200\n",
      "30/30 - 50s - loss: 0.2121 - val_loss: 0.2346\n",
      "Epoch 154/200\n",
      "30/30 - 51s - loss: 0.2116 - val_loss: 0.2347\n",
      "Epoch 155/200\n",
      "30/30 - 50s - loss: 0.2121 - val_loss: 0.2347\n",
      "Epoch 156/200\n",
      "30/30 - 50s - loss: 0.2120 - val_loss: 0.2347\n",
      "Epoch 157/200\n",
      "30/30 - 50s - loss: 0.2115 - val_loss: 0.2346\n",
      "Epoch 158/200\n",
      "30/30 - 51s - loss: 0.2120 - val_loss: 0.2347\n",
      "Epoch 159/200\n",
      "30/30 - 50s - loss: 0.2126 - val_loss: 0.2347\n",
      "Epoch 160/200\n",
      "30/30 - 50s - loss: 0.2125 - val_loss: 0.2346\n",
      "Epoch 161/200\n",
      "30/30 - 50s - loss: 0.2124 - val_loss: 0.2346\n",
      "Epoch 162/200\n",
      "30/30 - 50s - loss: 0.2125 - val_loss: 0.2346\n",
      "Epoch 163/200\n",
      "30/30 - 50s - loss: 0.2118 - val_loss: 0.2346\n",
      "Epoch 164/200\n",
      "30/30 - 50s - loss: 0.2115 - val_loss: 0.2346\n",
      "Epoch 165/200\n",
      "30/30 - 50s - loss: 0.2120 - val_loss: 0.2346\n",
      "Epoch 166/200\n",
      "30/30 - 50s - loss: 0.2123 - val_loss: 0.2346\n",
      "Epoch 167/200\n",
      "30/30 - 50s - loss: 0.2120 - val_loss: 0.2346\n",
      "Epoch 168/200\n",
      "30/30 - 50s - loss: 0.2117 - val_loss: 0.2346\n",
      "Epoch 169/200\n",
      "30/30 - 50s - loss: 0.2122 - val_loss: 0.2346\n",
      "Epoch 170/200\n",
      "30/30 - 50s - loss: 0.2116 - val_loss: 0.2346\n",
      "Epoch 171/200\n",
      "30/30 - 50s - loss: 0.2120 - val_loss: 0.2346\n",
      "Epoch 172/200\n",
      "30/30 - 50s - loss: 0.2118 - val_loss: 0.2346\n",
      "Epoch 173/200\n",
      "30/30 - 50s - loss: 0.2117 - val_loss: 0.2346\n",
      "Epoch 174/200\n",
      "30/30 - 50s - loss: 0.2117 - val_loss: 0.2346\n",
      "Epoch 175/200\n",
      "30/30 - 50s - loss: 0.2125 - val_loss: 0.2346\n",
      "Epoch 176/200\n",
      "30/30 - 50s - loss: 0.2118 - val_loss: 0.2346\n",
      "Epoch 177/200\n",
      "30/30 - 50s - loss: 0.2119 - val_loss: 0.2346\n",
      "Epoch 178/200\n",
      "30/30 - 50s - loss: 0.2120 - val_loss: 0.2346\n",
      "Epoch 179/200\n",
      "30/30 - 50s - loss: 0.2115 - val_loss: 0.2347\n",
      "Epoch 180/200\n",
      "30/30 - 50s - loss: 0.2118 - val_loss: 0.2346\n",
      "Epoch 181/200\n",
      "30/30 - 50s - loss: 0.2120 - val_loss: 0.2346\n",
      "Epoch 182/200\n",
      "30/30 - 50s - loss: 0.2117 - val_loss: 0.2347\n",
      "Epoch 183/200\n",
      "30/30 - 50s - loss: 0.2118 - val_loss: 0.2346\n",
      "Epoch 184/200\n",
      "30/30 - 50s - loss: 0.2118 - val_loss: 0.2346\n",
      "Epoch 185/200\n",
      "30/30 - 50s - loss: 0.2119 - val_loss: 0.2346\n",
      "Epoch 186/200\n",
      "30/30 - 50s - loss: 0.2118 - val_loss: 0.2347\n",
      "Epoch 187/200\n",
      "30/30 - 50s - loss: 0.2119 - val_loss: 0.2346\n",
      "Epoch 188/200\n",
      "30/30 - 50s - loss: 0.2119 - val_loss: 0.2346\n",
      "Epoch 189/200\n",
      "30/30 - 50s - loss: 0.2120 - val_loss: 0.2346\n",
      "Epoch 190/200\n",
      "30/30 - 50s - loss: 0.2122 - val_loss: 0.2346\n",
      "Epoch 191/200\n",
      "30/30 - 50s - loss: 0.2116 - val_loss: 0.2346\n",
      "Epoch 192/200\n",
      "30/30 - 50s - loss: 0.2112 - val_loss: 0.2346\n",
      "Epoch 193/200\n",
      "30/30 - 50s - loss: 0.2114 - val_loss: 0.2346\n",
      "Epoch 194/200\n",
      "30/30 - 50s - loss: 0.2122 - val_loss: 0.2346\n",
      "Epoch 195/200\n",
      "30/30 - 50s - loss: 0.2121 - val_loss: 0.2346\n",
      "Epoch 196/200\n",
      "30/30 - 50s - loss: 0.2120 - val_loss: 0.2346\n",
      "Epoch 197/200\n",
      "30/30 - 50s - loss: 0.2127 - val_loss: 0.2346\n",
      "Epoch 198/200\n",
      "30/30 - 50s - loss: 0.2124 - val_loss: 0.2346\n",
      "Epoch 199/200\n",
      "30/30 - 50s - loss: 0.2123 - val_loss: 0.2346\n",
      "Epoch 200/200\n",
      "30/30 - 50s - loss: 0.2122 - val_loss: 0.2346\n"
     ]
    }
   ],
   "source": [
    "history = model.fit(\n",
    "    x_train, y_train,\n",
    "    validation_data=(x_val, y_val),\n",
    "    batch_size=64,\n",
    "    epochs=200,\n",
    "    verbose=2,\n",
    "    callbacks=[\n",
    "        tf.keras.callbacks.ReduceLROnPlateau(patience=5),\n",
    "        tf.keras.callbacks.ModelCheckpoint('model.h5')\n",
    "    ]\n",
    ")"
   ]
  },
  {
   "cell_type": "markdown",
   "metadata": {
    "papermill": {
     "duration": 0.181331,
     "end_time": "2020-10-06T02:33:27.200012",
     "exception": false,
     "start_time": "2020-10-06T02:33:27.018681",
     "status": "completed"
    },
    "tags": []
   },
   "source": [
    "## Evaluate training history\n",
    "\n",
    "Let's use Plotly to quickly visualize the training and validation loss throughout the epochs."
   ]
  },
  {
   "cell_type": "code",
   "execution_count": 17,
   "metadata": {
    "execution": {
     "iopub.execute_input": "2020-10-06T02:33:27.574684Z",
     "iopub.status.busy": "2020-10-06T02:33:27.573886Z",
     "iopub.status.idle": "2020-10-06T02:33:28.667285Z",
     "shell.execute_reply": "2020-10-06T02:33:28.666727Z"
    },
    "papermill": {
     "duration": 1.282545,
     "end_time": "2020-10-06T02:33:28.667406",
     "exception": false,
     "start_time": "2020-10-06T02:33:27.384861",
     "status": "completed"
    },
    "tags": []
   },
   "outputs": [
    {
     "data": {
      "text/html": [
       "        <script type=\"text/javascript\">\n",
       "        window.PlotlyConfig = {MathJaxConfig: 'local'};\n",
       "        if (window.MathJax) {MathJax.Hub.Config({SVG: {font: \"STIX-Web\"}});}\n",
       "        if (typeof require !== 'undefined') {\n",
       "        require.undef(\"plotly\");\n",
       "        requirejs.config({\n",
       "            paths: {\n",
       "                'plotly': ['https://cdn.plot.ly/plotly-latest.min']\n",
       "            }\n",
       "        });\n",
       "        require(['plotly'], function(Plotly) {\n",
       "            window._Plotly = Plotly;\n",
       "        });\n",
       "        }\n",
       "        </script>\n",
       "        "
      ]
     },
     "metadata": {},
     "output_type": "display_data"
    },
    {
     "data": {
      "text/html": [
       "<div>\n",
       "        \n",
       "        \n",
       "            <div id=\"9e5c8d43-09b1-4921-aaf2-89dae034bf91\" class=\"plotly-graph-div\" style=\"height:525px; width:100%;\"></div>\n",
       "            <script type=\"text/javascript\">\n",
       "                require([\"plotly\"], function(Plotly) {\n",
       "                    window.PLOTLYENV=window.PLOTLYENV || {};\n",
       "                    \n",
       "                if (document.getElementById(\"9e5c8d43-09b1-4921-aaf2-89dae034bf91\")) {\n",
       "                    Plotly.newPlot(\n",
       "                        '9e5c8d43-09b1-4921-aaf2-89dae034bf91',\n",
       "                        [{\"hovertemplate\": \"variable=loss<br>epoch=%{x}<br>MCRMSE=%{y}<extra></extra>\", \"legendgroup\": \"loss\", \"line\": {\"color\": \"#636efa\", \"dash\": \"solid\"}, \"mode\": \"lines\", \"name\": \"loss\", \"orientation\": \"v\", \"showlegend\": true, \"type\": \"scatter\", \"x\": [0, 1, 2, 3, 4, 5, 6, 7, 8, 9, 10, 11, 12, 13, 14, 15, 16, 17, 18, 19, 20, 21, 22, 23, 24, 25, 26, 27, 28, 29, 30, 31, 32, 33, 34, 35, 36, 37, 38, 39, 40, 41, 42, 43, 44, 45, 46, 47, 48, 49, 50, 51, 52, 53, 54, 55, 56, 57, 58, 59, 60, 61, 62, 63, 64, 65, 66, 67, 68, 69, 70, 71, 72, 73, 74, 75, 76, 77, 78, 79, 80, 81, 82, 83, 84, 85, 86, 87, 88, 89, 90, 91, 92, 93, 94, 95, 96, 97, 98, 99, 100, 101, 102, 103, 104, 105, 106, 107, 108, 109, 110, 111, 112, 113, 114, 115, 116, 117, 118, 119, 120, 121, 122, 123, 124, 125, 126, 127, 128, 129, 130, 131, 132, 133, 134, 135, 136, 137, 138, 139, 140, 141, 142, 143, 144, 145, 146, 147, 148, 149, 150, 151, 152, 153, 154, 155, 156, 157, 158, 159, 160, 161, 162, 163, 164, 165, 166, 167, 168, 169, 170, 171, 172, 173, 174, 175, 176, 177, 178, 179, 180, 181, 182, 183, 184, 185, 186, 187, 188, 189, 190, 191, 192, 193, 194, 195, 196, 197, 198, 199], \"xaxis\": \"x\", \"y\": [1.1003681421279907, 0.41718846559524536, 0.3948962688446045, 0.38121724128723145, 0.3640689551830292, 0.35549530386924744, 0.3504960238933563, 0.34435760974884033, 0.34085965156555176, 0.33499935269355774, 0.3330278992652893, 0.327165424823761, 0.32364407181739807, 0.3211497962474823, 0.31570541858673096, 0.3100007176399231, 0.30197009444236755, 0.29285427927970886, 0.286957323551178, 0.2865341901779175, 0.2802625298500061, 0.27368658781051636, 0.2679423391819, 0.2658667266368866, 0.2632654309272766, 0.2625196576118469, 0.2580060660839081, 0.2559017837047577, 0.25192511081695557, 0.24960705637931824, 0.2478361576795578, 0.24609456956386566, 0.24463924765586853, 0.243549183011055, 0.23980708420276642, 0.2377757728099823, 0.23671795427799225, 0.23579005897045135, 0.2334250509738922, 0.2310309261083603, 0.22532705962657928, 0.22120454907417297, 0.22029104828834534, 0.22050441801548004, 0.2197616845369339, 0.2187410444021225, 0.21895700693130493, 0.21863868832588196, 0.21797582507133484, 0.21744564175605774, 0.21657417714595795, 0.21703726053237915, 0.2161247581243515, 0.2155313640832901, 0.21553640067577362, 0.21532583236694336, 0.21445046365261078, 0.2142370045185089, 0.21438907086849213, 0.21365515887737274, 0.2126169055700302, 0.2129700481891632, 0.2125566154718399, 0.21185536682605743, 0.21172501146793365, 0.2123815268278122, 0.21165841817855835, 0.2119922935962677, 0.21211972832679749, 0.2116072028875351, 0.21181319653987885, 0.21194767951965332, 0.21205617487430573, 0.2117205411195755, 0.21184717118740082, 0.2120271921157837, 0.21185176074504852, 0.21227280795574188, 0.21188248693943024, 0.21229678392410278, 0.21181072294712067, 0.21225129067897797, 0.21180246770381927, 0.21199458837509155, 0.2123694270849228, 0.21198885142803192, 0.2118094265460968, 0.21156324446201324, 0.21161456406116486, 0.2121025174856186, 0.21199916303157806, 0.21192722022533417, 0.21208815276622772, 0.21160730719566345, 0.2116769701242447, 0.21209020912647247, 0.2116609513759613, 0.21234238147735596, 0.21178176999092102, 0.21183305978775024, 0.21191619336605072, 0.2120046317577362, 0.2119007259607315, 0.21192562580108643, 0.211861252784729, 0.2117876261472702, 0.21161781251430511, 0.2116471529006958, 0.21164901554584503, 0.21198169887065887, 0.21167410910129547, 0.21199731528759003, 0.21172277629375458, 0.21193692088127136, 0.21154385805130005, 0.21155427396297455, 0.2121671438217163, 0.21195708215236664, 0.21207623183727264, 0.2118164747953415, 0.21226537227630615, 0.21199722588062286, 0.21201390027999878, 0.21194370090961456, 0.21198585629463196, 0.21198682487010956, 0.21199259161949158, 0.21232697367668152, 0.2123575061559677, 0.2120772898197174, 0.21189165115356445, 0.21216584742069244, 0.21222199499607086, 0.21153491735458374, 0.2120353728532791, 0.2115727961063385, 0.21271798014640808, 0.21171769499778748, 0.21192941069602966, 0.211757630109787, 0.21259835362434387, 0.21213610470294952, 0.21200892329216003, 0.21133850514888763, 0.21218828856945038, 0.21184109151363373, 0.2117762714624405, 0.212171733379364, 0.21197791397571564, 0.21142762899398804, 0.2119905948638916, 0.21200330555438995, 0.21205110847949982, 0.211613267660141, 0.21212734282016754, 0.21198312938213348, 0.21154288947582245, 0.21196822822093964, 0.2125525325536728, 0.21247953176498413, 0.21240265667438507, 0.21249869465827942, 0.21180889010429382, 0.2114625871181488, 0.2120155245065689, 0.21226921677589417, 0.21203970909118652, 0.21167723834514618, 0.21224023401737213, 0.21163256466388702, 0.21198676526546478, 0.21181511878967285, 0.21166716516017914, 0.21172571182250977, 0.2124767005443573, 0.2117694616317749, 0.21193057298660278, 0.21195299923419952, 0.21145503222942352, 0.21177686750888824, 0.21197675168514252, 0.21173681318759918, 0.21181829273700714, 0.21179072558879852, 0.21190176904201508, 0.21182964742183685, 0.21194283664226532, 0.2119239717721939, 0.21200793981552124, 0.21224099397659302, 0.21157358586788177, 0.21120072901248932, 0.2113889902830124, 0.21216803789138794, 0.21211911737918854, 0.21195784211158752, 0.21269091963768005, 0.21240276098251343, 0.2122824341058731, 0.2122119516134262], \"yaxis\": \"y\"}, {\"hovertemplate\": \"variable=val_loss<br>epoch=%{x}<br>MCRMSE=%{y}<extra></extra>\", \"legendgroup\": \"val_loss\", \"line\": {\"color\": \"#EF553B\", \"dash\": \"solid\"}, \"mode\": \"lines\", \"name\": \"val_loss\", \"orientation\": \"v\", \"showlegend\": true, \"type\": \"scatter\", \"x\": [0, 1, 2, 3, 4, 5, 6, 7, 8, 9, 10, 11, 12, 13, 14, 15, 16, 17, 18, 19, 20, 21, 22, 23, 24, 25, 26, 27, 28, 29, 30, 31, 32, 33, 34, 35, 36, 37, 38, 39, 40, 41, 42, 43, 44, 45, 46, 47, 48, 49, 50, 51, 52, 53, 54, 55, 56, 57, 58, 59, 60, 61, 62, 63, 64, 65, 66, 67, 68, 69, 70, 71, 72, 73, 74, 75, 76, 77, 78, 79, 80, 81, 82, 83, 84, 85, 86, 87, 88, 89, 90, 91, 92, 93, 94, 95, 96, 97, 98, 99, 100, 101, 102, 103, 104, 105, 106, 107, 108, 109, 110, 111, 112, 113, 114, 115, 116, 117, 118, 119, 120, 121, 122, 123, 124, 125, 126, 127, 128, 129, 130, 131, 132, 133, 134, 135, 136, 137, 138, 139, 140, 141, 142, 143, 144, 145, 146, 147, 148, 149, 150, 151, 152, 153, 154, 155, 156, 157, 158, 159, 160, 161, 162, 163, 164, 165, 166, 167, 168, 169, 170, 171, 172, 173, 174, 175, 176, 177, 178, 179, 180, 181, 182, 183, 184, 185, 186, 187, 188, 189, 190, 191, 192, 193, 194, 195, 196, 197, 198, 199], \"xaxis\": \"x\", \"y\": [0.6077559590339661, 0.47743362188339233, 0.4743029773235321, 0.4501326084136963, 0.4462212026119232, 0.4271821081638336, 0.43460214138031006, 0.4214174151420593, 0.40932220220565796, 0.40563130378723145, 0.39663833379745483, 0.40519294142723083, 0.3878067433834076, 0.3746280074119568, 0.36006128787994385, 0.349839448928833, 0.33184465765953064, 0.31656211614608765, 0.34573817253112793, 0.33318865299224854, 0.3250059187412262, 0.28677183389663696, 0.2976134717464447, 0.2814069092273712, 0.27919837832450867, 0.2843071222305298, 0.2855144739151001, 0.27133941650390625, 0.26720666885375977, 0.2771531343460083, 0.25918710231781006, 0.27293938398361206, 0.25971293449401855, 0.2615324556827545, 0.2534864842891693, 0.27933722734451294, 0.2545650899410248, 0.2596017122268677, 0.2641076147556305, 0.25691699981689453, 0.24234884977340698, 0.2373480349779129, 0.23941828310489655, 0.23827329277992249, 0.23511844873428345, 0.23533569276332855, 0.23540280759334564, 0.2340959757566452, 0.23756618797779083, 0.23516622185707092, 0.23545856773853302, 0.23379939794540405, 0.23745527863502502, 0.2370387315750122, 0.23268882930278778, 0.23349954187870026, 0.2349197417497635, 0.23360492289066315, 0.23281647264957428, 0.23738758265972137, 0.2339993417263031, 0.23382659256458282, 0.23332934081554413, 0.23373247683048248, 0.23391076922416687, 0.23414088785648346, 0.23426398634910583, 0.23430979251861572, 0.23437635600566864, 0.23443444073200226, 0.23447534441947937, 0.23455826938152313, 0.23453129827976227, 0.23459559679031372, 0.23460829257965088, 0.23459866642951965, 0.23460274934768677, 0.2346682995557785, 0.23464669287204742, 0.23457741737365723, 0.23456870019435883, 0.23455458879470825, 0.2346174120903015, 0.23463796079158783, 0.2346682846546173, 0.23469027876853943, 0.23465415835380554, 0.23462675511837006, 0.23462195694446564, 0.23459608852863312, 0.23459351062774658, 0.234579399228096, 0.23463524878025055, 0.23459719121456146, 0.23462578654289246, 0.23461654782295227, 0.23459093272686005, 0.23462022840976715, 0.23457396030426025, 0.23452503979206085, 0.2345648854970932, 0.2345740795135498, 0.23457297682762146, 0.23455840349197388, 0.23460213840007782, 0.23463201522827148, 0.23461401462554932, 0.2346125841140747, 0.234635129570961, 0.23464423418045044, 0.23465804755687714, 0.23461169004440308, 0.2346167117357254, 0.2346327155828476, 0.2346464842557907, 0.23463432490825653, 0.23470287024974823, 0.23469969630241394, 0.23464086651802063, 0.2346460372209549, 0.23463545739650726, 0.23462219536304474, 0.2346557080745697, 0.23462265729904175, 0.23462916910648346, 0.2346164584159851, 0.2346590906381607, 0.2346571981906891, 0.23467116057872772, 0.2346743941307068, 0.23467405140399933, 0.234663724899292, 0.23462612926959991, 0.23460859060287476, 0.23464235663414001, 0.23458412289619446, 0.23458774387836456, 0.2345813810825348, 0.2345868945121765, 0.2346002161502838, 0.2346138060092926, 0.23462103307247162, 0.23465006053447723, 0.23462477326393127, 0.23464101552963257, 0.23461773991584778, 0.23464590311050415, 0.23462021350860596, 0.23463799059391022, 0.2346174567937851, 0.23461027443408966, 0.23465068638324738, 0.23464711010456085, 0.23467077314853668, 0.23465652763843536, 0.2346991002559662, 0.23462794721126556, 0.2346823513507843, 0.2346886396408081, 0.23461754620075226, 0.23456722497940063, 0.23462264239788055, 0.23464111983776093, 0.23463575541973114, 0.23459921777248383, 0.23462732136249542, 0.2345942109823227, 0.23456911742687225, 0.23459166288375854, 0.23461399972438812, 0.23464208841323853, 0.23457784950733185, 0.23456570506095886, 0.23460540175437927, 0.23462826013565063, 0.2346387803554535, 0.2345825731754303, 0.23463378846645355, 0.2346605807542801, 0.23462006449699402, 0.23461581766605377, 0.23467354476451874, 0.2346116602420807, 0.23463845252990723, 0.23464499413967133, 0.23467819392681122, 0.23463831841945648, 0.2346021682024002, 0.23463332653045654, 0.23463177680969238, 0.2346338927745819, 0.23463860154151917, 0.23463068902492523, 0.23460666835308075, 0.2346159666776657, 0.23457980155944824, 0.23456597328186035, 0.23460900783538818, 0.23460224270820618, 0.23463691771030426], \"yaxis\": \"y\"}],\n",
       "                        {\"legend\": {\"title\": {\"text\": \"variable\"}, \"tracegroupgap\": 0}, \"template\": {\"data\": {\"bar\": [{\"error_x\": {\"color\": \"#2a3f5f\"}, \"error_y\": {\"color\": \"#2a3f5f\"}, \"marker\": {\"line\": {\"color\": \"#E5ECF6\", \"width\": 0.5}}, \"type\": \"bar\"}], \"barpolar\": [{\"marker\": {\"line\": {\"color\": \"#E5ECF6\", \"width\": 0.5}}, \"type\": \"barpolar\"}], \"carpet\": [{\"aaxis\": {\"endlinecolor\": \"#2a3f5f\", \"gridcolor\": \"white\", \"linecolor\": \"white\", \"minorgridcolor\": \"white\", \"startlinecolor\": \"#2a3f5f\"}, \"baxis\": {\"endlinecolor\": \"#2a3f5f\", \"gridcolor\": \"white\", \"linecolor\": \"white\", \"minorgridcolor\": \"white\", \"startlinecolor\": \"#2a3f5f\"}, \"type\": \"carpet\"}], \"choropleth\": [{\"colorbar\": {\"outlinewidth\": 0, \"ticks\": \"\"}, \"type\": \"choropleth\"}], \"contour\": [{\"colorbar\": {\"outlinewidth\": 0, \"ticks\": \"\"}, \"colorscale\": [[0.0, \"#0d0887\"], [0.1111111111111111, \"#46039f\"], [0.2222222222222222, \"#7201a8\"], [0.3333333333333333, \"#9c179e\"], [0.4444444444444444, \"#bd3786\"], [0.5555555555555556, \"#d8576b\"], [0.6666666666666666, \"#ed7953\"], [0.7777777777777778, \"#fb9f3a\"], [0.8888888888888888, \"#fdca26\"], [1.0, \"#f0f921\"]], \"type\": \"contour\"}], \"contourcarpet\": [{\"colorbar\": {\"outlinewidth\": 0, \"ticks\": \"\"}, \"type\": \"contourcarpet\"}], \"heatmap\": [{\"colorbar\": {\"outlinewidth\": 0, \"ticks\": \"\"}, \"colorscale\": [[0.0, \"#0d0887\"], [0.1111111111111111, \"#46039f\"], [0.2222222222222222, \"#7201a8\"], [0.3333333333333333, \"#9c179e\"], [0.4444444444444444, \"#bd3786\"], [0.5555555555555556, \"#d8576b\"], [0.6666666666666666, \"#ed7953\"], [0.7777777777777778, \"#fb9f3a\"], [0.8888888888888888, \"#fdca26\"], [1.0, \"#f0f921\"]], \"type\": \"heatmap\"}], \"heatmapgl\": [{\"colorbar\": {\"outlinewidth\": 0, \"ticks\": \"\"}, \"colorscale\": [[0.0, \"#0d0887\"], [0.1111111111111111, \"#46039f\"], [0.2222222222222222, \"#7201a8\"], [0.3333333333333333, \"#9c179e\"], [0.4444444444444444, \"#bd3786\"], [0.5555555555555556, \"#d8576b\"], [0.6666666666666666, \"#ed7953\"], [0.7777777777777778, \"#fb9f3a\"], [0.8888888888888888, \"#fdca26\"], [1.0, \"#f0f921\"]], \"type\": \"heatmapgl\"}], \"histogram\": [{\"marker\": {\"colorbar\": {\"outlinewidth\": 0, \"ticks\": \"\"}}, \"type\": \"histogram\"}], \"histogram2d\": [{\"colorbar\": {\"outlinewidth\": 0, \"ticks\": \"\"}, \"colorscale\": [[0.0, \"#0d0887\"], [0.1111111111111111, \"#46039f\"], [0.2222222222222222, \"#7201a8\"], [0.3333333333333333, \"#9c179e\"], [0.4444444444444444, \"#bd3786\"], [0.5555555555555556, \"#d8576b\"], [0.6666666666666666, \"#ed7953\"], [0.7777777777777778, \"#fb9f3a\"], [0.8888888888888888, \"#fdca26\"], [1.0, \"#f0f921\"]], \"type\": \"histogram2d\"}], \"histogram2dcontour\": [{\"colorbar\": {\"outlinewidth\": 0, \"ticks\": \"\"}, \"colorscale\": [[0.0, \"#0d0887\"], [0.1111111111111111, \"#46039f\"], [0.2222222222222222, \"#7201a8\"], [0.3333333333333333, \"#9c179e\"], [0.4444444444444444, \"#bd3786\"], [0.5555555555555556, \"#d8576b\"], [0.6666666666666666, \"#ed7953\"], [0.7777777777777778, \"#fb9f3a\"], [0.8888888888888888, \"#fdca26\"], [1.0, \"#f0f921\"]], \"type\": \"histogram2dcontour\"}], \"mesh3d\": [{\"colorbar\": {\"outlinewidth\": 0, \"ticks\": \"\"}, \"type\": \"mesh3d\"}], \"parcoords\": [{\"line\": {\"colorbar\": {\"outlinewidth\": 0, \"ticks\": \"\"}}, \"type\": \"parcoords\"}], \"pie\": [{\"automargin\": true, \"type\": \"pie\"}], \"scatter\": [{\"marker\": {\"colorbar\": {\"outlinewidth\": 0, \"ticks\": \"\"}}, \"type\": \"scatter\"}], \"scatter3d\": [{\"line\": {\"colorbar\": {\"outlinewidth\": 0, \"ticks\": \"\"}}, \"marker\": {\"colorbar\": {\"outlinewidth\": 0, \"ticks\": \"\"}}, \"type\": \"scatter3d\"}], \"scattercarpet\": [{\"marker\": {\"colorbar\": {\"outlinewidth\": 0, \"ticks\": \"\"}}, \"type\": \"scattercarpet\"}], \"scattergeo\": [{\"marker\": {\"colorbar\": {\"outlinewidth\": 0, \"ticks\": \"\"}}, \"type\": \"scattergeo\"}], \"scattergl\": [{\"marker\": {\"colorbar\": {\"outlinewidth\": 0, \"ticks\": \"\"}}, \"type\": \"scattergl\"}], \"scattermapbox\": [{\"marker\": {\"colorbar\": {\"outlinewidth\": 0, \"ticks\": \"\"}}, \"type\": \"scattermapbox\"}], \"scatterpolar\": [{\"marker\": {\"colorbar\": {\"outlinewidth\": 0, \"ticks\": \"\"}}, \"type\": \"scatterpolar\"}], \"scatterpolargl\": [{\"marker\": {\"colorbar\": {\"outlinewidth\": 0, \"ticks\": \"\"}}, \"type\": \"scatterpolargl\"}], \"scatterternary\": [{\"marker\": {\"colorbar\": {\"outlinewidth\": 0, \"ticks\": \"\"}}, \"type\": \"scatterternary\"}], \"surface\": [{\"colorbar\": {\"outlinewidth\": 0, \"ticks\": \"\"}, \"colorscale\": [[0.0, \"#0d0887\"], [0.1111111111111111, \"#46039f\"], [0.2222222222222222, \"#7201a8\"], [0.3333333333333333, \"#9c179e\"], [0.4444444444444444, \"#bd3786\"], [0.5555555555555556, \"#d8576b\"], [0.6666666666666666, \"#ed7953\"], [0.7777777777777778, \"#fb9f3a\"], [0.8888888888888888, \"#fdca26\"], [1.0, \"#f0f921\"]], \"type\": \"surface\"}], \"table\": [{\"cells\": {\"fill\": {\"color\": \"#EBF0F8\"}, \"line\": {\"color\": \"white\"}}, \"header\": {\"fill\": {\"color\": \"#C8D4E3\"}, \"line\": {\"color\": \"white\"}}, \"type\": \"table\"}]}, \"layout\": {\"annotationdefaults\": {\"arrowcolor\": \"#2a3f5f\", \"arrowhead\": 0, \"arrowwidth\": 1}, \"coloraxis\": {\"colorbar\": {\"outlinewidth\": 0, \"ticks\": \"\"}}, \"colorscale\": {\"diverging\": [[0, \"#8e0152\"], [0.1, \"#c51b7d\"], [0.2, \"#de77ae\"], [0.3, \"#f1b6da\"], [0.4, \"#fde0ef\"], [0.5, \"#f7f7f7\"], [0.6, \"#e6f5d0\"], [0.7, \"#b8e186\"], [0.8, \"#7fbc41\"], [0.9, \"#4d9221\"], [1, \"#276419\"]], \"sequential\": [[0.0, \"#0d0887\"], [0.1111111111111111, \"#46039f\"], [0.2222222222222222, \"#7201a8\"], [0.3333333333333333, \"#9c179e\"], [0.4444444444444444, \"#bd3786\"], [0.5555555555555556, \"#d8576b\"], [0.6666666666666666, \"#ed7953\"], [0.7777777777777778, \"#fb9f3a\"], [0.8888888888888888, \"#fdca26\"], [1.0, \"#f0f921\"]], \"sequentialminus\": [[0.0, \"#0d0887\"], [0.1111111111111111, \"#46039f\"], [0.2222222222222222, \"#7201a8\"], [0.3333333333333333, \"#9c179e\"], [0.4444444444444444, \"#bd3786\"], [0.5555555555555556, \"#d8576b\"], [0.6666666666666666, \"#ed7953\"], [0.7777777777777778, \"#fb9f3a\"], [0.8888888888888888, \"#fdca26\"], [1.0, \"#f0f921\"]]}, \"colorway\": [\"#636efa\", \"#EF553B\", \"#00cc96\", \"#ab63fa\", \"#FFA15A\", \"#19d3f3\", \"#FF6692\", \"#B6E880\", \"#FF97FF\", \"#FECB52\"], \"font\": {\"color\": \"#2a3f5f\"}, \"geo\": {\"bgcolor\": \"white\", \"lakecolor\": \"white\", \"landcolor\": \"#E5ECF6\", \"showlakes\": true, \"showland\": true, \"subunitcolor\": \"white\"}, \"hoverlabel\": {\"align\": \"left\"}, \"hovermode\": \"closest\", \"mapbox\": {\"style\": \"light\"}, \"paper_bgcolor\": \"white\", \"plot_bgcolor\": \"#E5ECF6\", \"polar\": {\"angularaxis\": {\"gridcolor\": \"white\", \"linecolor\": \"white\", \"ticks\": \"\"}, \"bgcolor\": \"#E5ECF6\", \"radialaxis\": {\"gridcolor\": \"white\", \"linecolor\": \"white\", \"ticks\": \"\"}}, \"scene\": {\"xaxis\": {\"backgroundcolor\": \"#E5ECF6\", \"gridcolor\": \"white\", \"gridwidth\": 2, \"linecolor\": \"white\", \"showbackground\": true, \"ticks\": \"\", \"zerolinecolor\": \"white\"}, \"yaxis\": {\"backgroundcolor\": \"#E5ECF6\", \"gridcolor\": \"white\", \"gridwidth\": 2, \"linecolor\": \"white\", \"showbackground\": true, \"ticks\": \"\", \"zerolinecolor\": \"white\"}, \"zaxis\": {\"backgroundcolor\": \"#E5ECF6\", \"gridcolor\": \"white\", \"gridwidth\": 2, \"linecolor\": \"white\", \"showbackground\": true, \"ticks\": \"\", \"zerolinecolor\": \"white\"}}, \"shapedefaults\": {\"line\": {\"color\": \"#2a3f5f\"}}, \"ternary\": {\"aaxis\": {\"gridcolor\": \"white\", \"linecolor\": \"white\", \"ticks\": \"\"}, \"baxis\": {\"gridcolor\": \"white\", \"linecolor\": \"white\", \"ticks\": \"\"}, \"bgcolor\": \"#E5ECF6\", \"caxis\": {\"gridcolor\": \"white\", \"linecolor\": \"white\", \"ticks\": \"\"}}, \"title\": {\"x\": 0.05}, \"xaxis\": {\"automargin\": true, \"gridcolor\": \"white\", \"linecolor\": \"white\", \"ticks\": \"\", \"title\": {\"standoff\": 15}, \"zerolinecolor\": \"white\", \"zerolinewidth\": 2}, \"yaxis\": {\"automargin\": true, \"gridcolor\": \"white\", \"linecolor\": \"white\", \"ticks\": \"\", \"title\": {\"standoff\": 15}, \"zerolinecolor\": \"white\", \"zerolinewidth\": 2}}}, \"title\": {\"text\": \"Training History\"}, \"xaxis\": {\"anchor\": \"y\", \"domain\": [0.0, 1.0], \"title\": {\"text\": \"epoch\"}}, \"yaxis\": {\"anchor\": \"x\", \"domain\": [0.0, 1.0], \"title\": {\"text\": \"MCRMSE\"}}},\n",
       "                        {\"responsive\": true}\n",
       "                    ).then(function(){\n",
       "                            \n",
       "var gd = document.getElementById('9e5c8d43-09b1-4921-aaf2-89dae034bf91');\n",
       "var x = new MutationObserver(function (mutations, observer) {{\n",
       "        var display = window.getComputedStyle(gd).display;\n",
       "        if (!display || display === 'none') {{\n",
       "            console.log([gd, 'removed!']);\n",
       "            Plotly.purge(gd);\n",
       "            observer.disconnect();\n",
       "        }}\n",
       "}});\n",
       "\n",
       "// Listen for the removal of the full notebook cells\n",
       "var notebookContainer = gd.closest('#notebook-container');\n",
       "if (notebookContainer) {{\n",
       "    x.observe(notebookContainer, {childList: true});\n",
       "}}\n",
       "\n",
       "// Listen for the clearing of the current output cell\n",
       "var outputEl = gd.closest('.output');\n",
       "if (outputEl) {{\n",
       "    x.observe(outputEl, {childList: true});\n",
       "}}\n",
       "\n",
       "                        })\n",
       "                };\n",
       "                });\n",
       "            </script>\n",
       "        </div>"
      ]
     },
     "metadata": {},
     "output_type": "display_data"
    }
   ],
   "source": [
    "fig = px.line(\n",
    "    history.history, y=['loss', 'val_loss'],\n",
    "    labels={'index': 'epoch', 'value': 'MCRMSE'}, \n",
    "    title='Training History')\n",
    "fig.show()"
   ]
  },
  {
   "cell_type": "markdown",
   "metadata": {
    "papermill": {
     "duration": 8.999194,
     "end_time": "2020-10-06T02:33:37.849805",
     "exception": false,
     "start_time": "2020-10-06T02:33:28.850611",
     "status": "completed"
    },
    "tags": []
   },
   "source": [
    "## Load models and make predictions"
   ]
  },
  {
   "cell_type": "markdown",
   "metadata": {
    "papermill": {
     "duration": 0.165324,
     "end_time": "2020-10-06T02:33:38.191700",
     "exception": false,
     "start_time": "2020-10-06T02:33:38.026376",
     "status": "completed"
    },
    "tags": []
   },
   "source": [
    "Public and private sets have different sequence lengths, so we will preprocess them separately and load models of different tensor shapes. This is possible because RNN models can accept sequences of varying lengths as inputs."
   ]
  },
  {
   "cell_type": "code",
   "execution_count": 18,
   "metadata": {
    "execution": {
     "iopub.execute_input": "2020-10-06T02:33:38.530691Z",
     "iopub.status.busy": "2020-10-06T02:33:38.529765Z",
     "iopub.status.idle": "2020-10-06T02:34:43.052258Z",
     "shell.execute_reply": "2020-10-06T02:34:43.050889Z"
    },
    "papermill": {
     "duration": 64.695533,
     "end_time": "2020-10-06T02:34:43.052434",
     "exception": false,
     "start_time": "2020-10-06T02:33:38.356901",
     "status": "completed"
    },
    "tags": []
   },
   "outputs": [],
   "source": [
    "# Caveat: The prediction format requires the output to be the same length as the input,\n",
    "# although it's not the case for the training data.\n",
    "model_public = build_model(seq_len=107, pred_len=107, embed_size=len(token2int))\n",
    "model_private = build_model(seq_len=130, pred_len=130, embed_size=len(token2int))\n",
    "\n",
    "model_public.load_weights('model.h5')\n",
    "model_private.load_weights('model.h5')"
   ]
  },
  {
   "cell_type": "code",
   "execution_count": 19,
   "metadata": {
    "execution": {
     "iopub.execute_input": "2020-10-06T02:34:43.400038Z",
     "iopub.status.busy": "2020-10-06T02:34:43.399148Z",
     "iopub.status.idle": "2020-10-06T02:36:01.462961Z",
     "shell.execute_reply": "2020-10-06T02:36:01.461333Z"
    },
    "papermill": {
     "duration": 78.244676,
     "end_time": "2020-10-06T02:36:01.463132",
     "exception": false,
     "start_time": "2020-10-06T02:34:43.218456",
     "status": "completed"
    },
    "tags": []
   },
   "outputs": [],
   "source": [
    "public_preds = model_public.predict(public_inputs)\n",
    "private_preds = model_private.predict(private_inputs)"
   ]
  },
  {
   "cell_type": "markdown",
   "metadata": {
    "papermill": {
     "duration": 0.160067,
     "end_time": "2020-10-06T02:36:01.788325",
     "exception": false,
     "start_time": "2020-10-06T02:36:01.628258",
     "status": "completed"
    },
    "tags": []
   },
   "source": [
    "## Post-processing and submit"
   ]
  },
  {
   "cell_type": "markdown",
   "metadata": {
    "papermill": {
     "duration": 0.160929,
     "end_time": "2020-10-06T02:36:02.112151",
     "exception": false,
     "start_time": "2020-10-06T02:36:01.951222",
     "status": "completed"
    },
    "tags": []
   },
   "source": [
    "For each sample, we take the predicted tensors of shape (107, 5) or (130, 5), and convert them to the long format (i.e. $629 \\times 107, 5$ or $3005 \\times 130, 5$):"
   ]
  },
  {
   "cell_type": "code",
   "execution_count": 20,
   "metadata": {
    "execution": {
     "iopub.execute_input": "2020-10-06T02:36:02.467493Z",
     "iopub.status.busy": "2020-10-06T02:36:02.466520Z",
     "iopub.status.idle": "2020-10-06T02:36:06.422018Z",
     "shell.execute_reply": "2020-10-06T02:36:06.422824Z"
    },
    "papermill": {
     "duration": 4.130324,
     "end_time": "2020-10-06T02:36:06.422978",
     "exception": false,
     "start_time": "2020-10-06T02:36:02.292654",
     "status": "completed"
    },
    "tags": []
   },
   "outputs": [
    {
     "data": {
      "text/html": [
       "<div>\n",
       "<style scoped>\n",
       "    .dataframe tbody tr th:only-of-type {\n",
       "        vertical-align: middle;\n",
       "    }\n",
       "\n",
       "    .dataframe tbody tr th {\n",
       "        vertical-align: top;\n",
       "    }\n",
       "\n",
       "    .dataframe thead th {\n",
       "        text-align: right;\n",
       "    }\n",
       "</style>\n",
       "<table border=\"1\" class=\"dataframe\">\n",
       "  <thead>\n",
       "    <tr style=\"text-align: right;\">\n",
       "      <th></th>\n",
       "      <th>reactivity</th>\n",
       "      <th>deg_Mg_pH10</th>\n",
       "      <th>deg_Mg_50C</th>\n",
       "      <th>deg_pH10</th>\n",
       "      <th>deg_50C</th>\n",
       "      <th>id_seqpos</th>\n",
       "    </tr>\n",
       "  </thead>\n",
       "  <tbody>\n",
       "    <tr>\n",
       "      <th>0</th>\n",
       "      <td>0.640859</td>\n",
       "      <td>0.706635</td>\n",
       "      <td>0.586440</td>\n",
       "      <td>1.872211</td>\n",
       "      <td>0.784280</td>\n",
       "      <td>id_00073f8be_0</td>\n",
       "    </tr>\n",
       "    <tr>\n",
       "      <th>1</th>\n",
       "      <td>2.079383</td>\n",
       "      <td>3.172473</td>\n",
       "      <td>3.263725</td>\n",
       "      <td>4.443473</td>\n",
       "      <td>2.944910</td>\n",
       "      <td>id_00073f8be_1</td>\n",
       "    </tr>\n",
       "    <tr>\n",
       "      <th>2</th>\n",
       "      <td>1.403372</td>\n",
       "      <td>0.589022</td>\n",
       "      <td>0.653141</td>\n",
       "      <td>0.642860</td>\n",
       "      <td>0.693439</td>\n",
       "      <td>id_00073f8be_2</td>\n",
       "    </tr>\n",
       "    <tr>\n",
       "      <th>3</th>\n",
       "      <td>1.289858</td>\n",
       "      <td>1.060190</td>\n",
       "      <td>1.696470</td>\n",
       "      <td>1.221601</td>\n",
       "      <td>1.631487</td>\n",
       "      <td>id_00073f8be_3</td>\n",
       "    </tr>\n",
       "    <tr>\n",
       "      <th>4</th>\n",
       "      <td>0.776128</td>\n",
       "      <td>0.538691</td>\n",
       "      <td>0.773023</td>\n",
       "      <td>0.518886</td>\n",
       "      <td>0.784516</td>\n",
       "      <td>id_00073f8be_4</td>\n",
       "    </tr>\n",
       "  </tbody>\n",
       "</table>\n",
       "</div>"
      ],
      "text/plain": [
       "   reactivity  deg_Mg_pH10  deg_Mg_50C  deg_pH10   deg_50C       id_seqpos\n",
       "0    0.640859     0.706635    0.586440  1.872211  0.784280  id_00073f8be_0\n",
       "1    2.079383     3.172473    3.263725  4.443473  2.944910  id_00073f8be_1\n",
       "2    1.403372     0.589022    0.653141  0.642860  0.693439  id_00073f8be_2\n",
       "3    1.289858     1.060190    1.696470  1.221601  1.631487  id_00073f8be_3\n",
       "4    0.776128     0.538691    0.773023  0.518886  0.784516  id_00073f8be_4"
      ]
     },
     "execution_count": 20,
     "metadata": {},
     "output_type": "execute_result"
    }
   ],
   "source": [
    "preds_ls = []\n",
    "\n",
    "for df, preds in [(public_df, public_preds), (private_df, private_preds)]:\n",
    "    for i, uid in enumerate(df.id):\n",
    "        single_pred = preds[i]\n",
    "\n",
    "        single_df = pd.DataFrame(single_pred, columns=pred_cols)\n",
    "        single_df['id_seqpos'] = [f'{uid}_{x}' for x in range(single_df.shape[0])]\n",
    "\n",
    "        preds_ls.append(single_df)\n",
    "\n",
    "preds_df = pd.concat(preds_ls)\n",
    "preds_df.head()"
   ]
  },
  {
   "cell_type": "code",
   "execution_count": 21,
   "metadata": {
    "execution": {
     "iopub.execute_input": "2020-10-06T02:36:06.789286Z",
     "iopub.status.busy": "2020-10-06T02:36:06.788103Z",
     "iopub.status.idle": "2020-10-06T02:36:12.161396Z",
     "shell.execute_reply": "2020-10-06T02:36:12.160782Z"
    },
    "papermill": {
     "duration": 5.559899,
     "end_time": "2020-10-06T02:36:12.161538",
     "exception": false,
     "start_time": "2020-10-06T02:36:06.601639",
     "status": "completed"
    },
    "tags": []
   },
   "outputs": [],
   "source": [
    "submission = sample_df[['id_seqpos']].merge(preds_df, on=['id_seqpos'])\n",
    "submission.to_csv('submission.csv', index=False)"
   ]
  }
 ],
 "metadata": {
  "kernelspec": {
   "display_name": "Python 3",
   "language": "python",
   "name": "python3"
  },
  "language_info": {
   "codemirror_mode": {
    "name": "ipython",
    "version": 3
   },
   "file_extension": ".py",
   "mimetype": "text/x-python",
   "name": "python",
   "nbconvert_exporter": "python",
   "pygments_lexer": "ipython3",
   "version": "3.7.6"
  },
  "papermill": {
   "duration": 10645.75094,
   "end_time": "2020-10-06T02:36:14.361468",
   "environment_variables": {},
   "exception": null,
   "input_path": "__notebook__.ipynb",
   "output_path": "__notebook__.ipynb",
   "parameters": {},
   "start_time": "2020-10-05T23:38:48.610528",
   "version": "2.1.0"
  }
 },
 "nbformat": 4,
 "nbformat_minor": 4
}
